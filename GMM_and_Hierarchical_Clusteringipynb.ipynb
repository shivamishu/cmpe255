{
  "nbformat": 4,
  "nbformat_minor": 0,
  "metadata": {
    "colab": {
      "name": "GMM and Hierarchical  Clusteringipynb",
      "provenance": [],
      "collapsed_sections": [],
      "toc_visible": true,
      "authorship_tag": "ABX9TyOeSQhvdMDLQ7iTBnRgeDE3",
      "include_colab_link": true
    },
    "kernelspec": {
      "name": "python3",
      "display_name": "Python 3"
    },
    "language_info": {
      "name": "python"
    }
  },
  "cells": [
    {
      "cell_type": "markdown",
      "metadata": {
        "id": "view-in-github",
        "colab_type": "text"
      },
      "source": [
        "<a href=\"https://colab.research.google.com/github/shivamishu/cmpe255/blob/main/GMM_and_Hierarchical_Clusteringipynb.ipynb\" target=\"_parent\"><img src=\"https://colab.research.google.com/assets/colab-badge.svg\" alt=\"Open In Colab\"/></a>"
      ]
    },
    {
      "cell_type": "markdown",
      "metadata": {
        "id": "yz5E5VN_ZXvW"
      },
      "source": [
        "#GMM and Hierarchical clustering"
      ]
    },
    {
      "cell_type": "markdown",
      "metadata": {
        "id": "ejZ_XdDDZmzY"
      },
      "source": [
        "**Shivam Shrivastav**"
      ]
    },
    {
      "cell_type": "markdown",
      "metadata": {
        "id": "8xkLxsJJ4NCr"
      },
      "source": [
        "# **GMM**"
      ]
    },
    {
      "cell_type": "code",
      "metadata": {
        "id": "6HX7_uC_0S8f"
      },
      "source": [
        "import seaborn as sns; sns.set()\n",
        "import numpy as np\n",
        "import pandas as pd\n",
        "\n",
        "from sklearn import mixture\n",
        "from sklearn.manifold import TSNE\n",
        "from sklearn.preprocessing import StandardScaler\n",
        "from sklearn.cluster import AgglomerativeClustering\n",
        "\n",
        "%matplotlib inline\n",
        "from matplotlib.colors import rgb2hex\n",
        "from matplotlib.cm import get_cmap\n",
        "import matplotlib.pyplot as plt"
      ],
      "execution_count": null,
      "outputs": []
    },
    {
      "cell_type": "code",
      "metadata": {
        "colab": {
          "base_uri": "https://localhost:8080/"
        },
        "id": "n-ta7RDQ9fgh",
        "outputId": "32dec3fb-c434-45eb-8d7f-8c851435a569"
      },
      "source": [
        "from google.colab import drive\n",
        "drive.mount('/content/drive')"
      ],
      "execution_count": null,
      "outputs": [
        {
          "output_type": "stream",
          "name": "stdout",
          "text": [
            "Mounted at /content/drive\n"
          ]
        }
      ]
    },
    {
      "cell_type": "code",
      "metadata": {
        "colab": {
          "base_uri": "https://localhost:8080/"
        },
        "id": "lHh4Kr9S-NxP",
        "outputId": "b67810df-fe48-44f9-88b2-38075b326aff"
      },
      "source": [
        "cd 'drive/MyDrive'"
      ],
      "execution_count": null,
      "outputs": [
        {
          "output_type": "stream",
          "name": "stdout",
          "text": [
            "/content/drive/MyDrive\n"
          ]
        }
      ]
    },
    {
      "cell_type": "code",
      "metadata": {
        "colab": {
          "base_uri": "https://localhost:8080/",
          "height": 284
        },
        "id": "a1a_cp6s-gAf",
        "outputId": "edc45e0f-1054-4f01-bf2d-e3d31b9f3734"
      },
      "source": [
        "train = pd.read_csv('train.csv')\n",
        "train = train.sample(frac=1)\n",
        "train.head()"
      ],
      "execution_count": null,
      "outputs": [
        {
          "output_type": "execute_result",
          "data": {
            "text/html": [
              "<div>\n",
              "<style scoped>\n",
              "    .dataframe tbody tr th:only-of-type {\n",
              "        vertical-align: middle;\n",
              "    }\n",
              "\n",
              "    .dataframe tbody tr th {\n",
              "        vertical-align: top;\n",
              "    }\n",
              "\n",
              "    .dataframe thead th {\n",
              "        text-align: right;\n",
              "    }\n",
              "</style>\n",
              "<table border=\"1\" class=\"dataframe\">\n",
              "  <thead>\n",
              "    <tr style=\"text-align: right;\">\n",
              "      <th></th>\n",
              "      <th>tBodyAcc-mean()-X</th>\n",
              "      <th>tBodyAcc-mean()-Y</th>\n",
              "      <th>tBodyAcc-mean()-Z</th>\n",
              "      <th>tBodyAcc-std()-X</th>\n",
              "      <th>tBodyAcc-std()-Y</th>\n",
              "      <th>tBodyAcc-std()-Z</th>\n",
              "      <th>tBodyAcc-mad()-X</th>\n",
              "      <th>tBodyAcc-mad()-Y</th>\n",
              "      <th>tBodyAcc-mad()-Z</th>\n",
              "      <th>tBodyAcc-max()-X</th>\n",
              "      <th>tBodyAcc-max()-Y</th>\n",
              "      <th>tBodyAcc-max()-Z</th>\n",
              "      <th>tBodyAcc-min()-X</th>\n",
              "      <th>tBodyAcc-min()-Y</th>\n",
              "      <th>tBodyAcc-min()-Z</th>\n",
              "      <th>tBodyAcc-sma()</th>\n",
              "      <th>tBodyAcc-energy()-X</th>\n",
              "      <th>tBodyAcc-energy()-Y</th>\n",
              "      <th>tBodyAcc-energy()-Z</th>\n",
              "      <th>tBodyAcc-iqr()-X</th>\n",
              "      <th>tBodyAcc-iqr()-Y</th>\n",
              "      <th>tBodyAcc-iqr()-Z</th>\n",
              "      <th>tBodyAcc-entropy()-X</th>\n",
              "      <th>tBodyAcc-entropy()-Y</th>\n",
              "      <th>tBodyAcc-entropy()-Z</th>\n",
              "      <th>tBodyAcc-arCoeff()-X,1</th>\n",
              "      <th>tBodyAcc-arCoeff()-X,2</th>\n",
              "      <th>tBodyAcc-arCoeff()-X,3</th>\n",
              "      <th>tBodyAcc-arCoeff()-X,4</th>\n",
              "      <th>tBodyAcc-arCoeff()-Y,1</th>\n",
              "      <th>tBodyAcc-arCoeff()-Y,2</th>\n",
              "      <th>tBodyAcc-arCoeff()-Y,3</th>\n",
              "      <th>tBodyAcc-arCoeff()-Y,4</th>\n",
              "      <th>tBodyAcc-arCoeff()-Z,1</th>\n",
              "      <th>tBodyAcc-arCoeff()-Z,2</th>\n",
              "      <th>tBodyAcc-arCoeff()-Z,3</th>\n",
              "      <th>tBodyAcc-arCoeff()-Z,4</th>\n",
              "      <th>tBodyAcc-correlation()-X,Y</th>\n",
              "      <th>tBodyAcc-correlation()-X,Z</th>\n",
              "      <th>tBodyAcc-correlation()-Y,Z</th>\n",
              "      <th>...</th>\n",
              "      <th>fBodyBodyAccJerkMag-entropy()</th>\n",
              "      <th>fBodyBodyAccJerkMag-maxInds</th>\n",
              "      <th>fBodyBodyAccJerkMag-meanFreq()</th>\n",
              "      <th>fBodyBodyAccJerkMag-skewness()</th>\n",
              "      <th>fBodyBodyAccJerkMag-kurtosis()</th>\n",
              "      <th>fBodyBodyGyroMag-mean()</th>\n",
              "      <th>fBodyBodyGyroMag-std()</th>\n",
              "      <th>fBodyBodyGyroMag-mad()</th>\n",
              "      <th>fBodyBodyGyroMag-max()</th>\n",
              "      <th>fBodyBodyGyroMag-min()</th>\n",
              "      <th>fBodyBodyGyroMag-sma()</th>\n",
              "      <th>fBodyBodyGyroMag-energy()</th>\n",
              "      <th>fBodyBodyGyroMag-iqr()</th>\n",
              "      <th>fBodyBodyGyroMag-entropy()</th>\n",
              "      <th>fBodyBodyGyroMag-maxInds</th>\n",
              "      <th>fBodyBodyGyroMag-meanFreq()</th>\n",
              "      <th>fBodyBodyGyroMag-skewness()</th>\n",
              "      <th>fBodyBodyGyroMag-kurtosis()</th>\n",
              "      <th>fBodyBodyGyroJerkMag-mean()</th>\n",
              "      <th>fBodyBodyGyroJerkMag-std()</th>\n",
              "      <th>fBodyBodyGyroJerkMag-mad()</th>\n",
              "      <th>fBodyBodyGyroJerkMag-max()</th>\n",
              "      <th>fBodyBodyGyroJerkMag-min()</th>\n",
              "      <th>fBodyBodyGyroJerkMag-sma()</th>\n",
              "      <th>fBodyBodyGyroJerkMag-energy()</th>\n",
              "      <th>fBodyBodyGyroJerkMag-iqr()</th>\n",
              "      <th>fBodyBodyGyroJerkMag-entropy()</th>\n",
              "      <th>fBodyBodyGyroJerkMag-maxInds</th>\n",
              "      <th>fBodyBodyGyroJerkMag-meanFreq()</th>\n",
              "      <th>fBodyBodyGyroJerkMag-skewness()</th>\n",
              "      <th>fBodyBodyGyroJerkMag-kurtosis()</th>\n",
              "      <th>angle(tBodyAccMean,gravity)</th>\n",
              "      <th>angle(tBodyAccJerkMean),gravityMean)</th>\n",
              "      <th>angle(tBodyGyroMean,gravityMean)</th>\n",
              "      <th>angle(tBodyGyroJerkMean,gravityMean)</th>\n",
              "      <th>angle(X,gravityMean)</th>\n",
              "      <th>angle(Y,gravityMean)</th>\n",
              "      <th>angle(Z,gravityMean)</th>\n",
              "      <th>subject</th>\n",
              "      <th>Activity</th>\n",
              "    </tr>\n",
              "  </thead>\n",
              "  <tbody>\n",
              "    <tr>\n",
              "      <th>3449</th>\n",
              "      <td>0.270919</td>\n",
              "      <td>-0.023432</td>\n",
              "      <td>-0.118623</td>\n",
              "      <td>-0.997773</td>\n",
              "      <td>-0.990879</td>\n",
              "      <td>-0.984508</td>\n",
              "      <td>-0.998272</td>\n",
              "      <td>-0.991507</td>\n",
              "      <td>-0.984466</td>\n",
              "      <td>-0.943957</td>\n",
              "      <td>-0.574445</td>\n",
              "      <td>-0.823137</td>\n",
              "      <td>0.849447</td>\n",
              "      <td>0.687594</td>\n",
              "      <td>0.831095</td>\n",
              "      <td>-0.989112</td>\n",
              "      <td>-0.999980</td>\n",
              "      <td>-0.999878</td>\n",
              "      <td>-0.999521</td>\n",
              "      <td>-0.998634</td>\n",
              "      <td>-0.993577</td>\n",
              "      <td>-0.983717</td>\n",
              "      <td>-0.861875</td>\n",
              "      <td>-0.876702</td>\n",
              "      <td>-0.722633</td>\n",
              "      <td>0.102089</td>\n",
              "      <td>0.019998</td>\n",
              "      <td>-0.288616</td>\n",
              "      <td>0.328994</td>\n",
              "      <td>0.108086</td>\n",
              "      <td>-0.082799</td>\n",
              "      <td>0.054624</td>\n",
              "      <td>0.093863</td>\n",
              "      <td>0.245008</td>\n",
              "      <td>-0.124305</td>\n",
              "      <td>-0.002952</td>\n",
              "      <td>-0.025995</td>\n",
              "      <td>0.166246</td>\n",
              "      <td>0.313672</td>\n",
              "      <td>-0.138939</td>\n",
              "      <td>...</td>\n",
              "      <td>-1.000000</td>\n",
              "      <td>-0.968254</td>\n",
              "      <td>0.599638</td>\n",
              "      <td>-0.447260</td>\n",
              "      <td>-0.684288</td>\n",
              "      <td>-0.992358</td>\n",
              "      <td>-0.985804</td>\n",
              "      <td>-0.988574</td>\n",
              "      <td>-0.984375</td>\n",
              "      <td>-0.998081</td>\n",
              "      <td>-0.992358</td>\n",
              "      <td>-0.999871</td>\n",
              "      <td>-0.993905</td>\n",
              "      <td>-0.797549</td>\n",
              "      <td>-0.948718</td>\n",
              "      <td>-0.285277</td>\n",
              "      <td>0.129149</td>\n",
              "      <td>-0.233818</td>\n",
              "      <td>-0.997749</td>\n",
              "      <td>-0.997357</td>\n",
              "      <td>-0.997060</td>\n",
              "      <td>-0.998019</td>\n",
              "      <td>-0.998212</td>\n",
              "      <td>-0.997749</td>\n",
              "      <td>-0.999990</td>\n",
              "      <td>-0.997252</td>\n",
              "      <td>-1.000000</td>\n",
              "      <td>-0.936508</td>\n",
              "      <td>0.295653</td>\n",
              "      <td>-0.543683</td>\n",
              "      <td>-0.857082</td>\n",
              "      <td>0.000103</td>\n",
              "      <td>-0.111407</td>\n",
              "      <td>0.298576</td>\n",
              "      <td>-0.406669</td>\n",
              "      <td>-0.664465</td>\n",
              "      <td>0.320676</td>\n",
              "      <td>0.083237</td>\n",
              "      <td>17</td>\n",
              "      <td>STANDING</td>\n",
              "    </tr>\n",
              "    <tr>\n",
              "      <th>6315</th>\n",
              "      <td>0.276949</td>\n",
              "      <td>-0.017632</td>\n",
              "      <td>-0.115238</td>\n",
              "      <td>-0.988073</td>\n",
              "      <td>-0.957196</td>\n",
              "      <td>-0.969736</td>\n",
              "      <td>-0.989454</td>\n",
              "      <td>-0.959304</td>\n",
              "      <td>-0.966888</td>\n",
              "      <td>-0.931976</td>\n",
              "      <td>-0.548413</td>\n",
              "      <td>-0.805648</td>\n",
              "      <td>0.835723</td>\n",
              "      <td>0.679197</td>\n",
              "      <td>0.831322</td>\n",
              "      <td>-0.975203</td>\n",
              "      <td>-0.999878</td>\n",
              "      <td>-0.999488</td>\n",
              "      <td>-0.999099</td>\n",
              "      <td>-0.991117</td>\n",
              "      <td>-0.968827</td>\n",
              "      <td>-0.956869</td>\n",
              "      <td>-0.461400</td>\n",
              "      <td>-0.411758</td>\n",
              "      <td>-0.501796</td>\n",
              "      <td>0.293515</td>\n",
              "      <td>-0.141184</td>\n",
              "      <td>0.113620</td>\n",
              "      <td>0.618118</td>\n",
              "      <td>-0.075305</td>\n",
              "      <td>0.173038</td>\n",
              "      <td>-0.052177</td>\n",
              "      <td>0.447444</td>\n",
              "      <td>0.050920</td>\n",
              "      <td>0.054563</td>\n",
              "      <td>-0.070374</td>\n",
              "      <td>0.168165</td>\n",
              "      <td>0.421862</td>\n",
              "      <td>-0.022532</td>\n",
              "      <td>0.540174</td>\n",
              "      <td>...</td>\n",
              "      <td>-0.940965</td>\n",
              "      <td>-1.000000</td>\n",
              "      <td>0.215117</td>\n",
              "      <td>-0.385885</td>\n",
              "      <td>-0.725528</td>\n",
              "      <td>-0.982361</td>\n",
              "      <td>-0.983989</td>\n",
              "      <td>-0.981953</td>\n",
              "      <td>-0.988169</td>\n",
              "      <td>-0.991657</td>\n",
              "      <td>-0.982361</td>\n",
              "      <td>-0.999766</td>\n",
              "      <td>-0.981991</td>\n",
              "      <td>-0.664203</td>\n",
              "      <td>-0.897436</td>\n",
              "      <td>0.104326</td>\n",
              "      <td>-0.531608</td>\n",
              "      <td>-0.840991</td>\n",
              "      <td>-0.991112</td>\n",
              "      <td>-0.991073</td>\n",
              "      <td>-0.991358</td>\n",
              "      <td>-0.989794</td>\n",
              "      <td>-0.995994</td>\n",
              "      <td>-0.991112</td>\n",
              "      <td>-0.999932</td>\n",
              "      <td>-0.992230</td>\n",
              "      <td>-0.923452</td>\n",
              "      <td>-1.000000</td>\n",
              "      <td>0.393943</td>\n",
              "      <td>0.023532</td>\n",
              "      <td>-0.262154</td>\n",
              "      <td>-0.015807</td>\n",
              "      <td>0.205988</td>\n",
              "      <td>-0.036548</td>\n",
              "      <td>-0.013271</td>\n",
              "      <td>-0.797652</td>\n",
              "      <td>0.229359</td>\n",
              "      <td>0.067881</td>\n",
              "      <td>28</td>\n",
              "      <td>SITTING</td>\n",
              "    </tr>\n",
              "    <tr>\n",
              "      <th>595</th>\n",
              "      <td>0.256579</td>\n",
              "      <td>-0.027866</td>\n",
              "      <td>-0.044736</td>\n",
              "      <td>-0.961579</td>\n",
              "      <td>-0.954003</td>\n",
              "      <td>-0.954508</td>\n",
              "      <td>-0.970202</td>\n",
              "      <td>-0.958089</td>\n",
              "      <td>-0.958705</td>\n",
              "      <td>-0.870466</td>\n",
              "      <td>-0.553127</td>\n",
              "      <td>-0.765932</td>\n",
              "      <td>0.822464</td>\n",
              "      <td>0.654992</td>\n",
              "      <td>0.833987</td>\n",
              "      <td>-0.930106</td>\n",
              "      <td>-0.999012</td>\n",
              "      <td>-0.999215</td>\n",
              "      <td>-0.992488</td>\n",
              "      <td>-0.976903</td>\n",
              "      <td>-0.971849</td>\n",
              "      <td>-0.965392</td>\n",
              "      <td>-0.483428</td>\n",
              "      <td>-0.701667</td>\n",
              "      <td>0.065711</td>\n",
              "      <td>-0.188312</td>\n",
              "      <td>0.113948</td>\n",
              "      <td>-0.134666</td>\n",
              "      <td>0.200028</td>\n",
              "      <td>-0.284238</td>\n",
              "      <td>0.311543</td>\n",
              "      <td>-0.035481</td>\n",
              "      <td>-0.150070</td>\n",
              "      <td>-0.059430</td>\n",
              "      <td>-0.089791</td>\n",
              "      <td>0.165441</td>\n",
              "      <td>-0.111529</td>\n",
              "      <td>0.217413</td>\n",
              "      <td>-0.488330</td>\n",
              "      <td>-0.341802</td>\n",
              "      <td>...</td>\n",
              "      <td>-0.828516</td>\n",
              "      <td>-1.000000</td>\n",
              "      <td>-0.231950</td>\n",
              "      <td>-0.025591</td>\n",
              "      <td>-0.490678</td>\n",
              "      <td>-0.911899</td>\n",
              "      <td>-0.875586</td>\n",
              "      <td>-0.887216</td>\n",
              "      <td>-0.876075</td>\n",
              "      <td>-0.921507</td>\n",
              "      <td>-0.911899</td>\n",
              "      <td>-0.991940</td>\n",
              "      <td>-0.948994</td>\n",
              "      <td>-0.190536</td>\n",
              "      <td>-1.000000</td>\n",
              "      <td>-0.279705</td>\n",
              "      <td>-0.001988</td>\n",
              "      <td>-0.391323</td>\n",
              "      <td>-0.980065</td>\n",
              "      <td>-0.969535</td>\n",
              "      <td>-0.975278</td>\n",
              "      <td>-0.968962</td>\n",
              "      <td>-0.988979</td>\n",
              "      <td>-0.980065</td>\n",
              "      <td>-0.999599</td>\n",
              "      <td>-0.983595</td>\n",
              "      <td>-0.723530</td>\n",
              "      <td>-1.000000</td>\n",
              "      <td>-0.258763</td>\n",
              "      <td>0.342204</td>\n",
              "      <td>-0.077436</td>\n",
              "      <td>-0.057660</td>\n",
              "      <td>-0.573676</td>\n",
              "      <td>-0.417126</td>\n",
              "      <td>0.534334</td>\n",
              "      <td>0.366073</td>\n",
              "      <td>-0.679051</td>\n",
              "      <td>-0.274235</td>\n",
              "      <td>3</td>\n",
              "      <td>LAYING</td>\n",
              "    </tr>\n",
              "    <tr>\n",
              "      <th>4374</th>\n",
              "      <td>0.283785</td>\n",
              "      <td>-0.013841</td>\n",
              "      <td>-0.118087</td>\n",
              "      <td>-0.982458</td>\n",
              "      <td>-0.886811</td>\n",
              "      <td>-0.882858</td>\n",
              "      <td>-0.985024</td>\n",
              "      <td>-0.902208</td>\n",
              "      <td>-0.869677</td>\n",
              "      <td>-0.911698</td>\n",
              "      <td>-0.489018</td>\n",
              "      <td>-0.757948</td>\n",
              "      <td>0.838158</td>\n",
              "      <td>0.626739</td>\n",
              "      <td>0.791189</td>\n",
              "      <td>-0.929442</td>\n",
              "      <td>-0.999764</td>\n",
              "      <td>-0.997116</td>\n",
              "      <td>-0.992208</td>\n",
              "      <td>-0.987023</td>\n",
              "      <td>-0.938605</td>\n",
              "      <td>-0.861248</td>\n",
              "      <td>-0.292908</td>\n",
              "      <td>-0.197103</td>\n",
              "      <td>-0.280483</td>\n",
              "      <td>-0.222211</td>\n",
              "      <td>0.137418</td>\n",
              "      <td>-0.042329</td>\n",
              "      <td>0.176376</td>\n",
              "      <td>0.071520</td>\n",
              "      <td>-0.352621</td>\n",
              "      <td>0.506705</td>\n",
              "      <td>0.106318</td>\n",
              "      <td>0.030027</td>\n",
              "      <td>-0.293594</td>\n",
              "      <td>0.382131</td>\n",
              "      <td>-0.040287</td>\n",
              "      <td>-0.066265</td>\n",
              "      <td>-0.535409</td>\n",
              "      <td>0.390748</td>\n",
              "      <td>...</td>\n",
              "      <td>-0.861217</td>\n",
              "      <td>-0.968254</td>\n",
              "      <td>-0.317891</td>\n",
              "      <td>-0.322403</td>\n",
              "      <td>-0.728387</td>\n",
              "      <td>-0.914287</td>\n",
              "      <td>-0.852387</td>\n",
              "      <td>-0.852946</td>\n",
              "      <td>-0.849733</td>\n",
              "      <td>-0.994771</td>\n",
              "      <td>-0.914287</td>\n",
              "      <td>-0.989655</td>\n",
              "      <td>-0.953361</td>\n",
              "      <td>-0.339781</td>\n",
              "      <td>-1.000000</td>\n",
              "      <td>-0.728656</td>\n",
              "      <td>-0.014655</td>\n",
              "      <td>-0.349824</td>\n",
              "      <td>-0.970830</td>\n",
              "      <td>-0.961945</td>\n",
              "      <td>-0.960486</td>\n",
              "      <td>-0.968699</td>\n",
              "      <td>-0.985570</td>\n",
              "      <td>-0.970830</td>\n",
              "      <td>-0.999317</td>\n",
              "      <td>-0.968223</td>\n",
              "      <td>-0.561142</td>\n",
              "      <td>-1.000000</td>\n",
              "      <td>-0.515763</td>\n",
              "      <td>-0.129439</td>\n",
              "      <td>-0.573341</td>\n",
              "      <td>-0.106887</td>\n",
              "      <td>0.196761</td>\n",
              "      <td>0.239988</td>\n",
              "      <td>0.027014</td>\n",
              "      <td>-0.808165</td>\n",
              "      <td>0.215654</td>\n",
              "      <td>-0.045886</td>\n",
              "      <td>22</td>\n",
              "      <td>STANDING</td>\n",
              "    </tr>\n",
              "    <tr>\n",
              "      <th>5875</th>\n",
              "      <td>0.276880</td>\n",
              "      <td>-0.018878</td>\n",
              "      <td>-0.110335</td>\n",
              "      <td>-0.995720</td>\n",
              "      <td>-0.991747</td>\n",
              "      <td>-0.985670</td>\n",
              "      <td>-0.995906</td>\n",
              "      <td>-0.990527</td>\n",
              "      <td>-0.985335</td>\n",
              "      <td>-0.939640</td>\n",
              "      <td>-0.574138</td>\n",
              "      <td>-0.811174</td>\n",
              "      <td>0.848912</td>\n",
              "      <td>0.691236</td>\n",
              "      <td>0.842990</td>\n",
              "      <td>-0.993227</td>\n",
              "      <td>-0.999973</td>\n",
              "      <td>-0.999950</td>\n",
              "      <td>-0.999704</td>\n",
              "      <td>-0.996200</td>\n",
              "      <td>-0.989357</td>\n",
              "      <td>-0.983790</td>\n",
              "      <td>-0.688861</td>\n",
              "      <td>-0.764928</td>\n",
              "      <td>-0.576410</td>\n",
              "      <td>0.255672</td>\n",
              "      <td>-0.038681</td>\n",
              "      <td>0.207407</td>\n",
              "      <td>0.036338</td>\n",
              "      <td>0.229058</td>\n",
              "      <td>-0.096524</td>\n",
              "      <td>0.158255</td>\n",
              "      <td>0.032428</td>\n",
              "      <td>0.329584</td>\n",
              "      <td>-0.196226</td>\n",
              "      <td>0.224125</td>\n",
              "      <td>-0.149789</td>\n",
              "      <td>-0.214490</td>\n",
              "      <td>0.170046</td>\n",
              "      <td>0.260176</td>\n",
              "      <td>...</td>\n",
              "      <td>-1.000000</td>\n",
              "      <td>-0.619048</td>\n",
              "      <td>0.975821</td>\n",
              "      <td>-0.670947</td>\n",
              "      <td>-0.930399</td>\n",
              "      <td>-0.988907</td>\n",
              "      <td>-0.991525</td>\n",
              "      <td>-0.988079</td>\n",
              "      <td>-0.994028</td>\n",
              "      <td>-0.998793</td>\n",
              "      <td>-0.988907</td>\n",
              "      <td>-0.999906</td>\n",
              "      <td>-0.981820</td>\n",
              "      <td>-0.736521</td>\n",
              "      <td>-1.000000</td>\n",
              "      <td>0.085847</td>\n",
              "      <td>-0.851180</td>\n",
              "      <td>-0.977615</td>\n",
              "      <td>-0.992242</td>\n",
              "      <td>-0.993129</td>\n",
              "      <td>-0.991947</td>\n",
              "      <td>-0.994252</td>\n",
              "      <td>-0.997429</td>\n",
              "      <td>-0.992242</td>\n",
              "      <td>-0.999950</td>\n",
              "      <td>-0.990384</td>\n",
              "      <td>-0.955696</td>\n",
              "      <td>-0.968254</td>\n",
              "      <td>0.200000</td>\n",
              "      <td>-0.506581</td>\n",
              "      <td>-0.826345</td>\n",
              "      <td>0.001787</td>\n",
              "      <td>-0.277433</td>\n",
              "      <td>0.142022</td>\n",
              "      <td>0.250739</td>\n",
              "      <td>-0.827834</td>\n",
              "      <td>0.216939</td>\n",
              "      <td>0.010175</td>\n",
              "      <td>27</td>\n",
              "      <td>STANDING</td>\n",
              "    </tr>\n",
              "  </tbody>\n",
              "</table>\n",
              "<p>5 rows × 563 columns</p>\n",
              "</div>"
            ],
            "text/plain": [
              "      tBodyAcc-mean()-X  tBodyAcc-mean()-Y  ...  subject  Activity\n",
              "3449           0.270919          -0.023432  ...       17  STANDING\n",
              "6315           0.276949          -0.017632  ...       28   SITTING\n",
              "595            0.256579          -0.027866  ...        3    LAYING\n",
              "4374           0.283785          -0.013841  ...       22  STANDING\n",
              "5875           0.276880          -0.018878  ...       27  STANDING\n",
              "\n",
              "[5 rows x 563 columns]"
            ]
          },
          "metadata": {},
          "execution_count": 4
        }
      ]
    },
    {
      "cell_type": "code",
      "metadata": {
        "colab": {
          "base_uri": "https://localhost:8080/",
          "height": 284
        },
        "id": "ofyHDX2l-cIp",
        "outputId": "070bf2eb-5db8-4b0a-cffc-9a09abd94abc"
      },
      "source": [
        "test = pd.read_csv('test.csv')\n",
        "test = test.sample(frac=1)\n",
        "test.head()"
      ],
      "execution_count": null,
      "outputs": [
        {
          "output_type": "execute_result",
          "data": {
            "text/html": [
              "<div>\n",
              "<style scoped>\n",
              "    .dataframe tbody tr th:only-of-type {\n",
              "        vertical-align: middle;\n",
              "    }\n",
              "\n",
              "    .dataframe tbody tr th {\n",
              "        vertical-align: top;\n",
              "    }\n",
              "\n",
              "    .dataframe thead th {\n",
              "        text-align: right;\n",
              "    }\n",
              "</style>\n",
              "<table border=\"1\" class=\"dataframe\">\n",
              "  <thead>\n",
              "    <tr style=\"text-align: right;\">\n",
              "      <th></th>\n",
              "      <th>tBodyAcc-mean()-X</th>\n",
              "      <th>tBodyAcc-mean()-Y</th>\n",
              "      <th>tBodyAcc-mean()-Z</th>\n",
              "      <th>tBodyAcc-std()-X</th>\n",
              "      <th>tBodyAcc-std()-Y</th>\n",
              "      <th>tBodyAcc-std()-Z</th>\n",
              "      <th>tBodyAcc-mad()-X</th>\n",
              "      <th>tBodyAcc-mad()-Y</th>\n",
              "      <th>tBodyAcc-mad()-Z</th>\n",
              "      <th>tBodyAcc-max()-X</th>\n",
              "      <th>tBodyAcc-max()-Y</th>\n",
              "      <th>tBodyAcc-max()-Z</th>\n",
              "      <th>tBodyAcc-min()-X</th>\n",
              "      <th>tBodyAcc-min()-Y</th>\n",
              "      <th>tBodyAcc-min()-Z</th>\n",
              "      <th>tBodyAcc-sma()</th>\n",
              "      <th>tBodyAcc-energy()-X</th>\n",
              "      <th>tBodyAcc-energy()-Y</th>\n",
              "      <th>tBodyAcc-energy()-Z</th>\n",
              "      <th>tBodyAcc-iqr()-X</th>\n",
              "      <th>tBodyAcc-iqr()-Y</th>\n",
              "      <th>tBodyAcc-iqr()-Z</th>\n",
              "      <th>tBodyAcc-entropy()-X</th>\n",
              "      <th>tBodyAcc-entropy()-Y</th>\n",
              "      <th>tBodyAcc-entropy()-Z</th>\n",
              "      <th>tBodyAcc-arCoeff()-X,1</th>\n",
              "      <th>tBodyAcc-arCoeff()-X,2</th>\n",
              "      <th>tBodyAcc-arCoeff()-X,3</th>\n",
              "      <th>tBodyAcc-arCoeff()-X,4</th>\n",
              "      <th>tBodyAcc-arCoeff()-Y,1</th>\n",
              "      <th>tBodyAcc-arCoeff()-Y,2</th>\n",
              "      <th>tBodyAcc-arCoeff()-Y,3</th>\n",
              "      <th>tBodyAcc-arCoeff()-Y,4</th>\n",
              "      <th>tBodyAcc-arCoeff()-Z,1</th>\n",
              "      <th>tBodyAcc-arCoeff()-Z,2</th>\n",
              "      <th>tBodyAcc-arCoeff()-Z,3</th>\n",
              "      <th>tBodyAcc-arCoeff()-Z,4</th>\n",
              "      <th>tBodyAcc-correlation()-X,Y</th>\n",
              "      <th>tBodyAcc-correlation()-X,Z</th>\n",
              "      <th>tBodyAcc-correlation()-Y,Z</th>\n",
              "      <th>...</th>\n",
              "      <th>fBodyBodyAccJerkMag-entropy()</th>\n",
              "      <th>fBodyBodyAccJerkMag-maxInds</th>\n",
              "      <th>fBodyBodyAccJerkMag-meanFreq()</th>\n",
              "      <th>fBodyBodyAccJerkMag-skewness()</th>\n",
              "      <th>fBodyBodyAccJerkMag-kurtosis()</th>\n",
              "      <th>fBodyBodyGyroMag-mean()</th>\n",
              "      <th>fBodyBodyGyroMag-std()</th>\n",
              "      <th>fBodyBodyGyroMag-mad()</th>\n",
              "      <th>fBodyBodyGyroMag-max()</th>\n",
              "      <th>fBodyBodyGyroMag-min()</th>\n",
              "      <th>fBodyBodyGyroMag-sma()</th>\n",
              "      <th>fBodyBodyGyroMag-energy()</th>\n",
              "      <th>fBodyBodyGyroMag-iqr()</th>\n",
              "      <th>fBodyBodyGyroMag-entropy()</th>\n",
              "      <th>fBodyBodyGyroMag-maxInds</th>\n",
              "      <th>fBodyBodyGyroMag-meanFreq()</th>\n",
              "      <th>fBodyBodyGyroMag-skewness()</th>\n",
              "      <th>fBodyBodyGyroMag-kurtosis()</th>\n",
              "      <th>fBodyBodyGyroJerkMag-mean()</th>\n",
              "      <th>fBodyBodyGyroJerkMag-std()</th>\n",
              "      <th>fBodyBodyGyroJerkMag-mad()</th>\n",
              "      <th>fBodyBodyGyroJerkMag-max()</th>\n",
              "      <th>fBodyBodyGyroJerkMag-min()</th>\n",
              "      <th>fBodyBodyGyroJerkMag-sma()</th>\n",
              "      <th>fBodyBodyGyroJerkMag-energy()</th>\n",
              "      <th>fBodyBodyGyroJerkMag-iqr()</th>\n",
              "      <th>fBodyBodyGyroJerkMag-entropy()</th>\n",
              "      <th>fBodyBodyGyroJerkMag-maxInds</th>\n",
              "      <th>fBodyBodyGyroJerkMag-meanFreq()</th>\n",
              "      <th>fBodyBodyGyroJerkMag-skewness()</th>\n",
              "      <th>fBodyBodyGyroJerkMag-kurtosis()</th>\n",
              "      <th>angle(tBodyAccMean,gravity)</th>\n",
              "      <th>angle(tBodyAccJerkMean),gravityMean)</th>\n",
              "      <th>angle(tBodyGyroMean,gravityMean)</th>\n",
              "      <th>angle(tBodyGyroJerkMean,gravityMean)</th>\n",
              "      <th>angle(X,gravityMean)</th>\n",
              "      <th>angle(Y,gravityMean)</th>\n",
              "      <th>angle(Z,gravityMean)</th>\n",
              "      <th>subject</th>\n",
              "      <th>Activity</th>\n",
              "    </tr>\n",
              "  </thead>\n",
              "  <tbody>\n",
              "    <tr>\n",
              "      <th>2257</th>\n",
              "      <td>0.267124</td>\n",
              "      <td>-0.006546</td>\n",
              "      <td>-0.105159</td>\n",
              "      <td>-0.993415</td>\n",
              "      <td>-0.959532</td>\n",
              "      <td>-0.982664</td>\n",
              "      <td>-0.993831</td>\n",
              "      <td>-0.962292</td>\n",
              "      <td>-0.983066</td>\n",
              "      <td>-0.942294</td>\n",
              "      <td>-0.542800</td>\n",
              "      <td>-0.816942</td>\n",
              "      <td>0.842386</td>\n",
              "      <td>0.677867</td>\n",
              "      <td>0.834308</td>\n",
              "      <td>-0.979023</td>\n",
              "      <td>-0.999929</td>\n",
              "      <td>-0.999332</td>\n",
              "      <td>-0.999610</td>\n",
              "      <td>-0.993367</td>\n",
              "      <td>-0.972006</td>\n",
              "      <td>-0.981852</td>\n",
              "      <td>-0.751869</td>\n",
              "      <td>-0.161020</td>\n",
              "      <td>-0.450762</td>\n",
              "      <td>-0.027847</td>\n",
              "      <td>0.024801</td>\n",
              "      <td>-0.133901</td>\n",
              "      <td>0.099053</td>\n",
              "      <td>0.033475</td>\n",
              "      <td>-0.210527</td>\n",
              "      <td>0.326254</td>\n",
              "      <td>0.015631</td>\n",
              "      <td>0.405732</td>\n",
              "      <td>-0.247841</td>\n",
              "      <td>0.257113</td>\n",
              "      <td>-0.233290</td>\n",
              "      <td>-0.654833</td>\n",
              "      <td>-0.540556</td>\n",
              "      <td>0.631676</td>\n",
              "      <td>...</td>\n",
              "      <td>-1.000000</td>\n",
              "      <td>-1.000000</td>\n",
              "      <td>0.122543</td>\n",
              "      <td>-0.532035</td>\n",
              "      <td>-0.826202</td>\n",
              "      <td>-0.988104</td>\n",
              "      <td>-0.980588</td>\n",
              "      <td>-0.980527</td>\n",
              "      <td>-0.979816</td>\n",
              "      <td>-0.996649</td>\n",
              "      <td>-0.988104</td>\n",
              "      <td>-0.999768</td>\n",
              "      <td>-0.988648</td>\n",
              "      <td>-0.720891</td>\n",
              "      <td>-1.000000</td>\n",
              "      <td>-0.398478</td>\n",
              "      <td>-0.130302</td>\n",
              "      <td>-0.453497</td>\n",
              "      <td>-0.995896</td>\n",
              "      <td>-0.993861</td>\n",
              "      <td>-0.994730</td>\n",
              "      <td>-0.993284</td>\n",
              "      <td>-0.995421</td>\n",
              "      <td>-0.995896</td>\n",
              "      <td>-0.999973</td>\n",
              "      <td>-0.995595</td>\n",
              "      <td>-0.955696</td>\n",
              "      <td>-1.000000</td>\n",
              "      <td>0.030266</td>\n",
              "      <td>0.067971</td>\n",
              "      <td>-0.304794</td>\n",
              "      <td>0.077208</td>\n",
              "      <td>0.007521</td>\n",
              "      <td>0.133913</td>\n",
              "      <td>-0.340106</td>\n",
              "      <td>-0.619962</td>\n",
              "      <td>-0.030756</td>\n",
              "      <td>-0.220404</td>\n",
              "      <td>20</td>\n",
              "      <td>SITTING</td>\n",
              "    </tr>\n",
              "    <tr>\n",
              "      <th>2115</th>\n",
              "      <td>0.298267</td>\n",
              "      <td>-0.017900</td>\n",
              "      <td>-0.108838</td>\n",
              "      <td>-0.986019</td>\n",
              "      <td>-0.981462</td>\n",
              "      <td>-0.980940</td>\n",
              "      <td>-0.986688</td>\n",
              "      <td>-0.983515</td>\n",
              "      <td>-0.981824</td>\n",
              "      <td>-0.921721</td>\n",
              "      <td>-0.564495</td>\n",
              "      <td>-0.819192</td>\n",
              "      <td>0.840955</td>\n",
              "      <td>0.680293</td>\n",
              "      <td>0.829556</td>\n",
              "      <td>-0.983078</td>\n",
              "      <td>-0.999757</td>\n",
              "      <td>-0.999863</td>\n",
              "      <td>-0.999572</td>\n",
              "      <td>-0.987405</td>\n",
              "      <td>-0.988217</td>\n",
              "      <td>-0.986737</td>\n",
              "      <td>-0.126547</td>\n",
              "      <td>-0.611601</td>\n",
              "      <td>-0.525435</td>\n",
              "      <td>-0.035003</td>\n",
              "      <td>-0.005411</td>\n",
              "      <td>0.236087</td>\n",
              "      <td>-0.371951</td>\n",
              "      <td>-0.024324</td>\n",
              "      <td>0.126063</td>\n",
              "      <td>0.045106</td>\n",
              "      <td>-0.022601</td>\n",
              "      <td>0.318253</td>\n",
              "      <td>-0.195169</td>\n",
              "      <td>0.218696</td>\n",
              "      <td>-0.160359</td>\n",
              "      <td>-0.104152</td>\n",
              "      <td>-0.592946</td>\n",
              "      <td>-0.111369</td>\n",
              "      <td>...</td>\n",
              "      <td>-1.000000</td>\n",
              "      <td>-0.809524</td>\n",
              "      <td>0.248630</td>\n",
              "      <td>-0.772310</td>\n",
              "      <td>-0.936426</td>\n",
              "      <td>-0.985251</td>\n",
              "      <td>-0.986722</td>\n",
              "      <td>-0.983447</td>\n",
              "      <td>-0.989817</td>\n",
              "      <td>-0.996166</td>\n",
              "      <td>-0.985251</td>\n",
              "      <td>-0.999829</td>\n",
              "      <td>-0.979804</td>\n",
              "      <td>-0.713184</td>\n",
              "      <td>-0.743590</td>\n",
              "      <td>0.100602</td>\n",
              "      <td>-0.658624</td>\n",
              "      <td>-0.893617</td>\n",
              "      <td>-0.988337</td>\n",
              "      <td>-0.991063</td>\n",
              "      <td>-0.989033</td>\n",
              "      <td>-0.993318</td>\n",
              "      <td>-0.991943</td>\n",
              "      <td>-0.988337</td>\n",
              "      <td>-0.999910</td>\n",
              "      <td>-0.987550</td>\n",
              "      <td>-0.871306</td>\n",
              "      <td>-0.809524</td>\n",
              "      <td>0.282582</td>\n",
              "      <td>-0.612958</td>\n",
              "      <td>-0.894264</td>\n",
              "      <td>-0.054314</td>\n",
              "      <td>0.010343</td>\n",
              "      <td>0.503265</td>\n",
              "      <td>0.241267</td>\n",
              "      <td>0.409178</td>\n",
              "      <td>-0.307185</td>\n",
              "      <td>-0.682248</td>\n",
              "      <td>18</td>\n",
              "      <td>LAYING</td>\n",
              "    </tr>\n",
              "    <tr>\n",
              "      <th>2167</th>\n",
              "      <td>0.302583</td>\n",
              "      <td>-0.022107</td>\n",
              "      <td>-0.147346</td>\n",
              "      <td>-0.408051</td>\n",
              "      <td>-0.232392</td>\n",
              "      <td>-0.392991</td>\n",
              "      <td>-0.468121</td>\n",
              "      <td>-0.241787</td>\n",
              "      <td>-0.396380</td>\n",
              "      <td>-0.184356</td>\n",
              "      <td>-0.249087</td>\n",
              "      <td>-0.506333</td>\n",
              "      <td>0.381231</td>\n",
              "      <td>0.135806</td>\n",
              "      <td>0.460844</td>\n",
              "      <td>-0.329994</td>\n",
              "      <td>-0.823337</td>\n",
              "      <td>-0.885286</td>\n",
              "      <td>-0.829150</td>\n",
              "      <td>-0.637769</td>\n",
              "      <td>-0.415407</td>\n",
              "      <td>-0.429245</td>\n",
              "      <td>0.210917</td>\n",
              "      <td>0.311622</td>\n",
              "      <td>0.155713</td>\n",
              "      <td>-0.393453</td>\n",
              "      <td>0.198652</td>\n",
              "      <td>0.061488</td>\n",
              "      <td>0.045129</td>\n",
              "      <td>-0.559519</td>\n",
              "      <td>0.585239</td>\n",
              "      <td>-0.384631</td>\n",
              "      <td>0.185904</td>\n",
              "      <td>-0.436074</td>\n",
              "      <td>0.440924</td>\n",
              "      <td>-0.385015</td>\n",
              "      <td>0.088444</td>\n",
              "      <td>-0.448617</td>\n",
              "      <td>-0.622999</td>\n",
              "      <td>0.493982</td>\n",
              "      <td>...</td>\n",
              "      <td>0.026986</td>\n",
              "      <td>-0.904762</td>\n",
              "      <td>-0.057811</td>\n",
              "      <td>0.140229</td>\n",
              "      <td>-0.158332</td>\n",
              "      <td>-0.372086</td>\n",
              "      <td>-0.025288</td>\n",
              "      <td>-0.218247</td>\n",
              "      <td>0.043886</td>\n",
              "      <td>-0.640450</td>\n",
              "      <td>-0.372086</td>\n",
              "      <td>-0.546251</td>\n",
              "      <td>-0.639542</td>\n",
              "      <td>0.432456</td>\n",
              "      <td>-1.000000</td>\n",
              "      <td>-0.324335</td>\n",
              "      <td>0.250566</td>\n",
              "      <td>-0.114866</td>\n",
              "      <td>-0.731589</td>\n",
              "      <td>-0.765406</td>\n",
              "      <td>-0.722492</td>\n",
              "      <td>-0.795661</td>\n",
              "      <td>-0.756581</td>\n",
              "      <td>-0.731589</td>\n",
              "      <td>-0.964987</td>\n",
              "      <td>-0.687587</td>\n",
              "      <td>0.155030</td>\n",
              "      <td>-0.904762</td>\n",
              "      <td>0.195906</td>\n",
              "      <td>-0.388497</td>\n",
              "      <td>-0.740639</td>\n",
              "      <td>-0.368964</td>\n",
              "      <td>-0.185698</td>\n",
              "      <td>0.925841</td>\n",
              "      <td>0.735429</td>\n",
              "      <td>-0.729608</td>\n",
              "      <td>0.234212</td>\n",
              "      <td>0.149922</td>\n",
              "      <td>18</td>\n",
              "      <td>WALKING_DOWNSTAIRS</td>\n",
              "    </tr>\n",
              "    <tr>\n",
              "      <th>2773</th>\n",
              "      <td>0.301043</td>\n",
              "      <td>0.000647</td>\n",
              "      <td>-0.137962</td>\n",
              "      <td>-0.960214</td>\n",
              "      <td>-0.881603</td>\n",
              "      <td>-0.846208</td>\n",
              "      <td>-0.964228</td>\n",
              "      <td>-0.892985</td>\n",
              "      <td>-0.853996</td>\n",
              "      <td>-0.874483</td>\n",
              "      <td>-0.474150</td>\n",
              "      <td>-0.685026</td>\n",
              "      <td>0.842735</td>\n",
              "      <td>0.679606</td>\n",
              "      <td>0.799670</td>\n",
              "      <td>-0.909689</td>\n",
              "      <td>-0.998931</td>\n",
              "      <td>-0.996317</td>\n",
              "      <td>-0.986213</td>\n",
              "      <td>-0.973801</td>\n",
              "      <td>-0.953200</td>\n",
              "      <td>-0.880101</td>\n",
              "      <td>-0.053329</td>\n",
              "      <td>-0.117466</td>\n",
              "      <td>-0.481135</td>\n",
              "      <td>-0.129648</td>\n",
              "      <td>0.028715</td>\n",
              "      <td>-0.038952</td>\n",
              "      <td>0.004766</td>\n",
              "      <td>-0.038480</td>\n",
              "      <td>-0.014091</td>\n",
              "      <td>0.199210</td>\n",
              "      <td>-0.268211</td>\n",
              "      <td>-0.068757</td>\n",
              "      <td>-0.043685</td>\n",
              "      <td>0.019567</td>\n",
              "      <td>-0.017483</td>\n",
              "      <td>0.929197</td>\n",
              "      <td>0.837055</td>\n",
              "      <td>0.913990</td>\n",
              "      <td>...</td>\n",
              "      <td>-1.000000</td>\n",
              "      <td>-0.968254</td>\n",
              "      <td>0.402358</td>\n",
              "      <td>-0.638958</td>\n",
              "      <td>-0.866781</td>\n",
              "      <td>-0.970110</td>\n",
              "      <td>-0.956823</td>\n",
              "      <td>-0.961932</td>\n",
              "      <td>-0.950951</td>\n",
              "      <td>-0.985452</td>\n",
              "      <td>-0.970110</td>\n",
              "      <td>-0.998953</td>\n",
              "      <td>-0.984948</td>\n",
              "      <td>-0.558268</td>\n",
              "      <td>-1.000000</td>\n",
              "      <td>-0.203311</td>\n",
              "      <td>0.189288</td>\n",
              "      <td>-0.106014</td>\n",
              "      <td>-0.994138</td>\n",
              "      <td>-0.995059</td>\n",
              "      <td>-0.994531</td>\n",
              "      <td>-0.994863</td>\n",
              "      <td>-0.996389</td>\n",
              "      <td>-0.994138</td>\n",
              "      <td>-0.999968</td>\n",
              "      <td>-0.993669</td>\n",
              "      <td>-0.955696</td>\n",
              "      <td>-1.000000</td>\n",
              "      <td>0.471237</td>\n",
              "      <td>-0.384437</td>\n",
              "      <td>-0.659203</td>\n",
              "      <td>-0.197369</td>\n",
              "      <td>0.147832</td>\n",
              "      <td>0.103184</td>\n",
              "      <td>0.198379</td>\n",
              "      <td>-0.802856</td>\n",
              "      <td>0.204851</td>\n",
              "      <td>0.105878</td>\n",
              "      <td>24</td>\n",
              "      <td>STANDING</td>\n",
              "    </tr>\n",
              "    <tr>\n",
              "      <th>555</th>\n",
              "      <td>0.268894</td>\n",
              "      <td>-0.015808</td>\n",
              "      <td>-0.119396</td>\n",
              "      <td>-0.432780</td>\n",
              "      <td>-0.040345</td>\n",
              "      <td>-0.617739</td>\n",
              "      <td>-0.449521</td>\n",
              "      <td>0.004357</td>\n",
              "      <td>-0.606797</td>\n",
              "      <td>-0.383055</td>\n",
              "      <td>-0.019252</td>\n",
              "      <td>-0.510353</td>\n",
              "      <td>0.399574</td>\n",
              "      <td>0.214035</td>\n",
              "      <td>0.672222</td>\n",
              "      <td>-0.303736</td>\n",
              "      <td>-0.837787</td>\n",
              "      <td>-0.821696</td>\n",
              "      <td>-0.930894</td>\n",
              "      <td>-0.480808</td>\n",
              "      <td>-0.108942</td>\n",
              "      <td>-0.633717</td>\n",
              "      <td>0.338135</td>\n",
              "      <td>0.308333</td>\n",
              "      <td>-0.018675</td>\n",
              "      <td>-0.227429</td>\n",
              "      <td>0.188894</td>\n",
              "      <td>0.067585</td>\n",
              "      <td>-0.088517</td>\n",
              "      <td>-0.173682</td>\n",
              "      <td>0.116880</td>\n",
              "      <td>0.141006</td>\n",
              "      <td>0.014547</td>\n",
              "      <td>0.036719</td>\n",
              "      <td>-0.062425</td>\n",
              "      <td>0.125806</td>\n",
              "      <td>-0.032797</td>\n",
              "      <td>0.095072</td>\n",
              "      <td>0.132794</td>\n",
              "      <td>-0.071265</td>\n",
              "      <td>...</td>\n",
              "      <td>0.285274</td>\n",
              "      <td>-0.873016</td>\n",
              "      <td>0.100910</td>\n",
              "      <td>-0.071893</td>\n",
              "      <td>-0.358524</td>\n",
              "      <td>-0.645000</td>\n",
              "      <td>-0.601001</td>\n",
              "      <td>-0.609547</td>\n",
              "      <td>-0.643158</td>\n",
              "      <td>-0.974424</td>\n",
              "      <td>-0.645000</td>\n",
              "      <td>-0.908382</td>\n",
              "      <td>-0.747176</td>\n",
              "      <td>0.329063</td>\n",
              "      <td>-0.538462</td>\n",
              "      <td>0.000967</td>\n",
              "      <td>-0.177073</td>\n",
              "      <td>-0.567618</td>\n",
              "      <td>-0.742026</td>\n",
              "      <td>-0.772033</td>\n",
              "      <td>-0.734182</td>\n",
              "      <td>-0.833416</td>\n",
              "      <td>-0.845138</td>\n",
              "      <td>-0.742026</td>\n",
              "      <td>-0.967362</td>\n",
              "      <td>-0.724826</td>\n",
              "      <td>0.241468</td>\n",
              "      <td>-0.873016</td>\n",
              "      <td>0.245123</td>\n",
              "      <td>-0.470711</td>\n",
              "      <td>-0.831925</td>\n",
              "      <td>0.364791</td>\n",
              "      <td>-0.246083</td>\n",
              "      <td>-0.505783</td>\n",
              "      <td>0.605300</td>\n",
              "      <td>-0.887998</td>\n",
              "      <td>0.123891</td>\n",
              "      <td>-0.059463</td>\n",
              "      <td>4</td>\n",
              "      <td>WALKING</td>\n",
              "    </tr>\n",
              "  </tbody>\n",
              "</table>\n",
              "<p>5 rows × 563 columns</p>\n",
              "</div>"
            ],
            "text/plain": [
              "      tBodyAcc-mean()-X  tBodyAcc-mean()-Y  ...  subject            Activity\n",
              "2257           0.267124          -0.006546  ...       20             SITTING\n",
              "2115           0.298267          -0.017900  ...       18              LAYING\n",
              "2167           0.302583          -0.022107  ...       18  WALKING_DOWNSTAIRS\n",
              "2773           0.301043           0.000647  ...       24            STANDING\n",
              "555            0.268894          -0.015808  ...        4             WALKING\n",
              "\n",
              "[5 rows x 563 columns]"
            ]
          },
          "metadata": {},
          "execution_count": 5
        }
      ]
    },
    {
      "cell_type": "code",
      "metadata": {
        "colab": {
          "base_uri": "https://localhost:8080/"
        },
        "id": "NMwlYEoG-2o2",
        "outputId": "c364eee2-476a-40c2-a894-ca06462c1445"
      },
      "source": [
        "X_train = train.iloc[:,:-2]\n",
        "Y_train = train.Activity\n",
        "train = train.drop(['Activity', 'subject'], axis=1)\n",
        "print(Y_train.shape)"
      ],
      "execution_count": null,
      "outputs": [
        {
          "output_type": "stream",
          "name": "stdout",
          "text": [
            "(7352,)\n"
          ]
        }
      ]
    },
    {
      "cell_type": "code",
      "metadata": {
        "colab": {
          "base_uri": "https://localhost:8080/"
        },
        "id": "d3GCDdl--551",
        "outputId": "ffdb1b7a-c575-42f2-a9fc-8fe8db6da346"
      },
      "source": [
        "X_test = test.iloc[:,:-2]\n",
        "Y_test = test.Activity\n",
        "test = test.drop(['Activity', 'subject'], axis=1)\n",
        "print(Y_test.shape)"
      ],
      "execution_count": null,
      "outputs": [
        {
          "output_type": "stream",
          "name": "stdout",
          "text": [
            "(2947,)\n"
          ]
        }
      ]
    },
    {
      "cell_type": "markdown",
      "metadata": {
        "id": "c2hbkOOQ9Xxy"
      },
      "source": [
        "**Comparing GMM vs K-means**\n",
        "\n",
        "Disadvantages of k-means are: its lack of flexibility in cluster shape and lack of probabilistic cluster assignment—mean that for many datasets (especially low-dimensional datasets) it may not perform as well.\n",
        "\n",
        "A Gaussian mixture model (GMM) attempts to find a mixture of multi-dimensional Gaussian probability distributions that best model any input dataset. In the simplest case, GMMs can be used for finding clusters in the same manner as k-means"
      ]
    },
    {
      "cell_type": "markdown",
      "metadata": {
        "id": "GwEzL9lKOHlD"
      },
      "source": [
        "**How many components?**\n",
        "\n",
        "The fact that GMM is a generative model gives us a natural means of determining the optimal number of components for a given dataset. A generative model is inherently a probability distribution for the dataset, and so we can simply evaluate the likelihood of the data under the model, using cross-validation to avoid over-fitting. Another means of correcting for over-fitting is to adjust the model likelihoods using some analytic criterion such as the Akaike information criterion (AIC) or the Bayesian information criterion (BIC). Scikit-Learn's GMM estimator actually includes built-in methods that compute both of these, and so it is very easy to operate on this approach."
      ]
    },
    {
      "cell_type": "code",
      "metadata": {
        "colab": {
          "base_uri": "https://localhost:8080/",
          "height": 295
        },
        "id": "U7PmlKjYN2cA",
        "outputId": "8d086a97-c9dd-4404-8db2-a643a511e4d5"
      },
      "source": [
        "n_components = np.arange(1, 11)\n",
        "models = [mixture.GaussianMixture(n, covariance_type='full', random_state=0).fit(train)\n",
        "          for n in n_components]\n",
        "\n",
        "plt.plot(n_components, [m.bic(train) for m in models], label='BIC')\n",
        "plt.plot(n_components, [m.aic(train) for m in models], label='AIC')\n",
        "plt.legend(loc='best')\n",
        "plt.xlabel('n_components');"
      ],
      "execution_count": null,
      "outputs": [
        {
          "output_type": "display_data",
          "data": {
            "image/png": "[encoded data removed]",
            "text/plain": [
              "<Figure size 432x288 with 1 Axes>"
            ]
          },
          "metadata": {
            "needs_background": "light"
          }
        }
      ]
    },
    {
      "cell_type": "markdown",
      "metadata": {
        "id": "Igao3-Ex3MCw"
      },
      "source": [
        "**Findings**\n",
        "\n",
        "The optimal number of clusters is the value that minimizes the AIC or BIC, depending on which approximation we wish to use. The AIC tells us that our choice of 6 components below was probably too many: around 2-4 components would have been a better choice. As is typical with this sort of problem, the BIC recommends a simpler model.\n"
      ]
    },
    {
      "cell_type": "markdown",
      "metadata": {
        "id": "f9SNriqp3YgX"
      },
      "source": [
        "**With n_components = 6**"
      ]
    },
    {
      "cell_type": "code",
      "metadata": {
        "colab": {
          "base_uri": "https://localhost:8080/"
        },
        "id": "Bt2yYVei_nPt",
        "outputId": "92b92f9f-9b30-4fbd-fc83-0d3f54e4146f"
      },
      "source": [
        "# define the model\n",
        "gaussian_model = mixture.GaussianMixture(n_components=6)\n",
        "\n",
        "# train the model\n",
        "gaussian_model.fit(train)\n",
        "\n",
        "# assign each data point to a cluster\n",
        "gaussian_result = gaussian_model.predict(train)\n",
        "print(gaussian_result)\n",
        "\n",
        "# get all of the unique clusters\n",
        "gaussian_clusters = np.unique(gaussian_result)\n",
        "print(gaussian_clusters)\n"
      ],
      "execution_count": null,
      "outputs": [
        {
          "output_type": "stream",
          "name": "stdout",
          "text": [
            "[1 1 4 ... 1 1 5]\n",
            "[0 1 2 3 4 5]\n"
          ]
        }
      ]
    },
    {
      "cell_type": "code",
      "metadata": {
        "colab": {
          "base_uri": "https://localhost:8080/",
          "height": 263
        },
        "id": "wHTVabbFBol1",
        "outputId": "bc9e5ab2-4525-4a60-d548-0a7d51515ca9"
      },
      "source": [
        "df = pd.DataFrame({'clust_label': gaussian_result, 'orig_label': np.array(Y_train)})\n",
        "ct = pd.crosstab(df['clust_label'], df['orig_label'])\n",
        "\n",
        "display(ct)"
      ],
      "execution_count": null,
      "outputs": [
        {
          "output_type": "display_data",
          "data": {
            "text/html": [
              "<div>\n",
              "<style scoped>\n",
              "    .dataframe tbody tr th:only-of-type {\n",
              "        vertical-align: middle;\n",
              "    }\n",
              "\n",
              "    .dataframe tbody tr th {\n",
              "        vertical-align: top;\n",
              "    }\n",
              "\n",
              "    .dataframe thead th {\n",
              "        text-align: right;\n",
              "    }\n",
              "</style>\n",
              "<table border=\"1\" class=\"dataframe\">\n",
              "  <thead>\n",
              "    <tr style=\"text-align: right;\">\n",
              "      <th>orig_label</th>\n",
              "      <th>LAYING</th>\n",
              "      <th>SITTING</th>\n",
              "      <th>STANDING</th>\n",
              "      <th>WALKING</th>\n",
              "      <th>WALKING_DOWNSTAIRS</th>\n",
              "      <th>WALKING_UPSTAIRS</th>\n",
              "    </tr>\n",
              "    <tr>\n",
              "      <th>clust_label</th>\n",
              "      <th></th>\n",
              "      <th></th>\n",
              "      <th></th>\n",
              "      <th></th>\n",
              "      <th></th>\n",
              "      <th></th>\n",
              "    </tr>\n",
              "  </thead>\n",
              "  <tbody>\n",
              "    <tr>\n",
              "      <th>0</th>\n",
              "      <td>0</td>\n",
              "      <td>0</td>\n",
              "      <td>0</td>\n",
              "      <td>802</td>\n",
              "      <td>84</td>\n",
              "      <td>156</td>\n",
              "    </tr>\n",
              "    <tr>\n",
              "      <th>1</th>\n",
              "      <td>0</td>\n",
              "      <td>1222</td>\n",
              "      <td>1368</td>\n",
              "      <td>0</td>\n",
              "      <td>0</td>\n",
              "      <td>0</td>\n",
              "    </tr>\n",
              "    <tr>\n",
              "      <th>2</th>\n",
              "      <td>0</td>\n",
              "      <td>0</td>\n",
              "      <td>0</td>\n",
              "      <td>101</td>\n",
              "      <td>604</td>\n",
              "      <td>121</td>\n",
              "    </tr>\n",
              "    <tr>\n",
              "      <th>3</th>\n",
              "      <td>0</td>\n",
              "      <td>0</td>\n",
              "      <td>0</td>\n",
              "      <td>93</td>\n",
              "      <td>202</td>\n",
              "      <td>36</td>\n",
              "    </tr>\n",
              "    <tr>\n",
              "      <th>4</th>\n",
              "      <td>1387</td>\n",
              "      <td>56</td>\n",
              "      <td>0</td>\n",
              "      <td>0</td>\n",
              "      <td>0</td>\n",
              "      <td>0</td>\n",
              "    </tr>\n",
              "    <tr>\n",
              "      <th>5</th>\n",
              "      <td>20</td>\n",
              "      <td>8</td>\n",
              "      <td>6</td>\n",
              "      <td>230</td>\n",
              "      <td>96</td>\n",
              "      <td>760</td>\n",
              "    </tr>\n",
              "  </tbody>\n",
              "</table>\n",
              "</div>"
            ],
            "text/plain": [
              "orig_label   LAYING  SITTING  ...  WALKING_DOWNSTAIRS  WALKING_UPSTAIRS\n",
              "clust_label                   ...                                      \n",
              "0                 0        0  ...                  84               156\n",
              "1                 0     1222  ...                   0                 0\n",
              "2                 0        0  ...                 604               121\n",
              "3                 0        0  ...                 202                36\n",
              "4              1387       56  ...                   0                 0\n",
              "5                20        8  ...                  96               760\n",
              "\n",
              "[6 rows x 6 columns]"
            ]
          },
          "metadata": {}
        }
      ]
    },
    {
      "cell_type": "markdown",
      "metadata": {
        "id": "ZZvo9WFSFsdB"
      },
      "source": [
        "But because GMM contains a probabilistic model under the hood, it is also possible to find probabilistic cluster assignments—in Scikit-Learn this is done using the predict_proba method. This returns a matrix of size [n_samples, n_clusters] which measures the probability that any point belongs to the given cluster:"
      ]
    },
    {
      "cell_type": "code",
      "metadata": {
        "colab": {
          "base_uri": "https://localhost:8080/"
        },
        "id": "z3jVArmMBshE",
        "outputId": "e50fb996-c3df-4148-d567-f6b3f3eaeea7"
      },
      "source": [
        "probs = gaussian_model.predict_proba(train)\n",
        "print(probs[:5].round(3))"
      ],
      "execution_count": null,
      "outputs": [
        {
          "output_type": "stream",
          "name": "stdout",
          "text": [
            "[[0. 1. 0. 0. 0. 0.]\n",
            " [0. 1. 0. 0. 0. 0.]\n",
            " [0. 0. 0. 0. 1. 0.]\n",
            " [0. 1. 0. 0. 0. 0.]\n",
            " [0. 1. 0. 0. 0. 0.]]\n"
          ]
        }
      ]
    },
    {
      "cell_type": "markdown",
      "metadata": {
        "id": "wG_ld2sLESbH"
      },
      "source": [
        "**Performing TSNE transformation to plot data**"
      ]
    },
    {
      "cell_type": "code",
      "metadata": {
        "id": "eDVpNlPQEMr_"
      },
      "source": [
        "tsne_data = train.copy()\n",
        "scl = StandardScaler()\n",
        "tsne_data = scl.fit_transform(tsne_data)\n",
        "\n",
        "tsne = TSNE(random_state=3)\n",
        "tsne_transformed = tsne.fit_transform(tsne_data)"
      ],
      "execution_count": null,
      "outputs": []
    },
    {
      "cell_type": "code",
      "metadata": {
        "colab": {
          "base_uri": "https://localhost:8080/",
          "height": 267
        },
        "id": "v9fX_juIFNJ9",
        "outputId": "8d2c0f69-09ce-4167-fbb2-7f5745cc0265"
      },
      "source": [
        "from sklearn.datasets import make_classification\n",
        "from sklearn.mixture import GaussianMixture\n",
        "from matplotlib import pyplot\n",
        "# plot Gaussian Mixture the clusters\n",
        "for gaussian_cluster in gaussian_clusters:\n",
        "    # get data points that fall in this cluster\n",
        "    index = np.where(gaussian_result == gaussian_cluster)\n",
        "    # make the plot\n",
        "    pyplot.scatter(tsne_transformed[index, 0], tsne_transformed[index, 1])\n",
        "\n",
        "# show the Gaussian Mixture plot\n",
        "pyplot.show()"
      ],
      "execution_count": null,
      "outputs": [
        {
          "output_type": "display_data",
          "data": {
            "image/png": "[encoded data removed]",
            "text/plain": [
              "<Figure size 432x288 with 1 Axes>"
            ]
          },
          "metadata": {
            "needs_background": "light"
          }
        }
      ]
    },
    {
      "cell_type": "markdown",
      "metadata": {
        "id": "1r39lO_-3fHa"
      },
      "source": [
        "**With n_components = 2**"
      ]
    },
    {
      "cell_type": "code",
      "metadata": {
        "colab": {
          "base_uri": "https://localhost:8080/"
        },
        "id": "bYywDVP0XuJX",
        "outputId": "08b01dc7-dd1b-4aba-dfcb-d2129a5c30a3"
      },
      "source": [
        "# define the model\n",
        "gaussian_model = mixture.GaussianMixture(n_components=2)\n",
        "\n",
        "# train the model\n",
        "gaussian_model.fit(train)\n",
        "\n",
        "# assign each data point to a cluster\n",
        "gaussian_result = gaussian_model.predict(train)\n",
        "print(gaussian_result)\n",
        "\n",
        "# get all of the unique clusters\n",
        "gaussian_clusters = np.unique(gaussian_result)\n",
        "print(gaussian_clusters)"
      ],
      "execution_count": null,
      "outputs": [
        {
          "output_type": "stream",
          "name": "stdout",
          "text": [
            "[0 0 0 ... 0 0 1]\n",
            "[0 1]\n"
          ]
        }
      ]
    },
    {
      "cell_type": "code",
      "metadata": {
        "colab": {
          "base_uri": "https://localhost:8080/",
          "height": 141
        },
        "id": "t1EGpukx3kai",
        "outputId": "57b8b93d-4dc1-4070-b2c7-57829b18878b"
      },
      "source": [
        "df = pd.DataFrame({'clust_label': gaussian_result, 'orig_label': np.array(Y_train)})\n",
        "ct = pd.crosstab(df['clust_label'], df['orig_label'])\n",
        "\n",
        "display(ct)"
      ],
      "execution_count": null,
      "outputs": [
        {
          "output_type": "display_data",
          "data": {
            "text/html": [
              "<div>\n",
              "<style scoped>\n",
              "    .dataframe tbody tr th:only-of-type {\n",
              "        vertical-align: middle;\n",
              "    }\n",
              "\n",
              "    .dataframe tbody tr th {\n",
              "        vertical-align: top;\n",
              "    }\n",
              "\n",
              "    .dataframe thead th {\n",
              "        text-align: right;\n",
              "    }\n",
              "</style>\n",
              "<table border=\"1\" class=\"dataframe\">\n",
              "  <thead>\n",
              "    <tr style=\"text-align: right;\">\n",
              "      <th>orig_label</th>\n",
              "      <th>LAYING</th>\n",
              "      <th>SITTING</th>\n",
              "      <th>STANDING</th>\n",
              "      <th>WALKING</th>\n",
              "      <th>WALKING_DOWNSTAIRS</th>\n",
              "      <th>WALKING_UPSTAIRS</th>\n",
              "    </tr>\n",
              "    <tr>\n",
              "      <th>clust_label</th>\n",
              "      <th></th>\n",
              "      <th></th>\n",
              "      <th></th>\n",
              "      <th></th>\n",
              "      <th></th>\n",
              "      <th></th>\n",
              "    </tr>\n",
              "  </thead>\n",
              "  <tbody>\n",
              "    <tr>\n",
              "      <th>0</th>\n",
              "      <td>1396</td>\n",
              "      <td>1285</td>\n",
              "      <td>1374</td>\n",
              "      <td>0</td>\n",
              "      <td>0</td>\n",
              "      <td>0</td>\n",
              "    </tr>\n",
              "    <tr>\n",
              "      <th>1</th>\n",
              "      <td>11</td>\n",
              "      <td>1</td>\n",
              "      <td>0</td>\n",
              "      <td>1226</td>\n",
              "      <td>986</td>\n",
              "      <td>1073</td>\n",
              "    </tr>\n",
              "  </tbody>\n",
              "</table>\n",
              "</div>"
            ],
            "text/plain": [
              "orig_label   LAYING  SITTING  ...  WALKING_DOWNSTAIRS  WALKING_UPSTAIRS\n",
              "clust_label                   ...                                      \n",
              "0              1396     1285  ...                   0                 0\n",
              "1                11        1  ...                 986              1073\n",
              "\n",
              "[2 rows x 6 columns]"
            ]
          },
          "metadata": {}
        }
      ]
    },
    {
      "cell_type": "code",
      "metadata": {
        "colab": {
          "base_uri": "https://localhost:8080/"
        },
        "id": "lYYWmySK37J1",
        "outputId": "a3009c3b-93e7-4e1f-e2a9-9a23aa6b9e54"
      },
      "source": [
        "probs = gaussian_model.predict_proba(train)\n",
        "print(probs[:5].round(3))"
      ],
      "execution_count": null,
      "outputs": [
        {
          "output_type": "stream",
          "name": "stdout",
          "text": [
            "[[1. 0.]\n",
            " [1. 0.]\n",
            " [1. 0.]\n",
            " [1. 0.]\n",
            " [1. 0.]]\n"
          ]
        }
      ]
    },
    {
      "cell_type": "markdown",
      "metadata": {
        "id": "03kmnYcj8aQp"
      },
      "source": [
        "Plotting clusters"
      ]
    },
    {
      "cell_type": "code",
      "metadata": {
        "colab": {
          "base_uri": "https://localhost:8080/",
          "height": 267
        },
        "id": "lpD4hZf78_Y5",
        "outputId": "9f0a321e-ab4c-412c-ac50-f766ae140fcf"
      },
      "source": [
        "# plot Gaussian Mixture the clusters\n",
        "for gaussian_cluster in gaussian_clusters:\n",
        "    # get data points that fall in this cluster\n",
        "    index = np.where(gaussian_result == gaussian_cluster)\n",
        "    # make the plot\n",
        "    pyplot.scatter(tsne_transformed[index, 0], tsne_transformed[index, 1])\n",
        "\n",
        "# show the Gaussian Mixture plot\n",
        "pyplot.show()"
      ],
      "execution_count": null,
      "outputs": [
        {
          "output_type": "display_data",
          "data": {
            "image/png": "[encoded data removed]",
            "text/plain": [
              "<Figure size 432x288 with 1 Axes>"
            ]
          },
          "metadata": {
            "needs_background": "light"
          }
        }
      ]
    },
    {
      "cell_type": "code",
      "metadata": {
        "id": "3wctHcSL4gqh"
      },
      "source": [
        "from matplotlib.patches import Ellipse\n",
        "\n",
        "def draw_ellipse(position, covariance, ax=None, **kwargs):\n",
        "    \"\"\"Draw an ellipse with a given position and covariance\"\"\"\n",
        "    ax = ax or plt.gca()\n",
        "    \n",
        "    # Convert covariance to principal axes\n",
        "    if covariance.shape == (2, 2):\n",
        "        U, s, Vt = np.linalg.svd(covariance)\n",
        "        angle = np.degrees(np.arctan2(U[1, 0], U[0, 0]))\n",
        "        width, height = 2 * np.sqrt(s)\n",
        "    else:\n",
        "        angle = 0\n",
        "        width, height = 2 * np.sqrt(covariance)\n",
        "    \n",
        "    # Draw the Ellipse\n",
        "    for nsig in range(1, 4):\n",
        "        ax.add_patch(Ellipse(position, nsig * width, nsig * height,\n",
        "                             angle, **kwargs))\n",
        "        \n",
        "def plot_gmm(gmm, X, label=True, ax=None):\n",
        "    ax = ax or plt.gca()\n",
        "    labels = gmm.fit(X).predict(X)\n",
        "    if label:\n",
        "        ax.scatter(X[:, 0], X[:, 1], c=labels, s=40, cmap='viridis', zorder=2)\n",
        "    else:\n",
        "        ax.scatter(X[:, 0], X[:, 1], s=40, zorder=2)\n",
        "    ax.axis('equal')\n",
        "    \n",
        "    w_factor = 0.2 / gmm.weights_.max()\n",
        "    for pos, covar, w in zip(gmm.means_, gmm.covariances_, gmm.weights_):\n",
        "        draw_ellipse(pos, covar, alpha=w * w_factor)"
      ],
      "execution_count": null,
      "outputs": []
    },
    {
      "cell_type": "markdown",
      "metadata": {
        "id": "aA2EUu-ySHVa"
      },
      "source": [
        "### Plotting 2-component GMM gives us for our initial data:"
      ]
    },
    {
      "cell_type": "code",
      "metadata": {
        "colab": {
          "base_uri": "https://localhost:8080/",
          "height": 267
        },
        "id": "4FYbrkzM5HjV",
        "outputId": "c79a016a-23ea-477e-e129-670695ed32b2"
      },
      "source": [
        "# Generate some data\n",
        "from sklearn.datasets.samples_generator import make_blobs\n",
        "X, y_true = make_blobs(n_samples=400, centers=2,\n",
        "                       cluster_std=0.60, random_state=0)\n",
        "X = X[:, ::-1] # flip axes for better plotting\n",
        "\n",
        "gmm = mixture.GaussianMixture(n_components=2, covariance_type='full', random_state=42)\n",
        "plot_gmm(gmm, X)"
      ],
      "execution_count": null,
      "outputs": [
        {
          "output_type": "display_data",
          "data": {
            "image/png": "[encoded data removed]",
            "text/plain": [
              "<Figure size 432x288 with 1 Axes>"
            ]
          },
          "metadata": {
            "needs_background": "light"
          }
        }
      ]
    },
    {
      "cell_type": "markdown",
      "metadata": {
        "id": "NCoaET6WSWHO"
      },
      "source": [
        "### GMM approach to fit our stretched dataset; allowing for a full covariance the model will fit even very oblong, stretched-out clusters:"
      ]
    },
    {
      "cell_type": "code",
      "metadata": {
        "colab": {
          "base_uri": "https://localhost:8080/",
          "height": 267
        },
        "id": "wrGqkfGiR6oo",
        "outputId": "a38dd579-6510-4133-da19-aaea450679bd"
      },
      "source": [
        "rng = np.random.RandomState(13)\n",
        "X_stretched = np.dot(X, rng.randn(2, 2))\n",
        "\n",
        "plot_gmm(gmm, X_stretched)"
      ],
      "execution_count": null,
      "outputs": [
        {
          "output_type": "display_data",
          "data": {
            "image/png": "[encoded data removed]",
            "text/plain": [
              "<Figure size 432x288 with 1 Axes>"
            ]
          },
          "metadata": {
            "needs_background": "light"
          }
        }
      ]
    },
    {
      "cell_type": "markdown",
      "metadata": {
        "id": "k8-fGp_V4E0C"
      },
      "source": [
        "# Hierarchical (Agglomerative Clustering)\n"
      ]
    },
    {
      "cell_type": "code",
      "metadata": {
        "colab": {
          "base_uri": "https://localhost:8080/",
          "height": 285
        },
        "id": "Wl9OiThZGhBl",
        "outputId": "a9426acc-1cb1-4a76-e9b4-bd7b47147b2e"
      },
      "source": [
        "# define the model\n",
        "agglomerative_model = AgglomerativeClustering(n_clusters=6)\n",
        "\n",
        "# assign each data point to a cluster\n",
        "agglomerative_result = agglomerative_model.fit_predict(train)\n",
        "print(agglomerative_result)\n",
        "# get all of the unique clusters\n",
        "agglomerative_clusters = np.unique(agglomerative_result)\n",
        "\n",
        "# plot the clusters\n",
        "for agglomerative_cluster in agglomerative_clusters:\n",
        "    # get data points that fall in this cluster\n",
        "    index = np.where(agglomerative_result == agglomerative_cluster)\n",
        "    # make the plot\n",
        "    plt.scatter(tsne_transformed[index, 0], tsne_transformed[index, 1])\n",
        "\n",
        "# show the Agglomerative Hierarchy plot\n",
        "plt.show()"
      ],
      "execution_count": null,
      "outputs": [
        {
          "output_type": "stream",
          "name": "stdout",
          "text": [
            "[1 0 5 ... 2 4 1]\n"
          ]
        },
        {
          "output_type": "display_data",
          "data": {
            "image/png": "[encoded data removed]",
            "text/plain": [
              "<Figure size 432x288 with 1 Axes>"
            ]
          },
          "metadata": {
            "needs_background": "light"
          }
        }
      ]
    },
    {
      "cell_type": "code",
      "metadata": {
        "colab": {
          "base_uri": "https://localhost:8080/",
          "height": 285
        },
        "id": "tddOkDot4cyf",
        "outputId": "23b42875-b307-4c48-c8e0-adf4ae446149"
      },
      "source": [
        "# define the model\n",
        "agglomerative_model = AgglomerativeClustering(n_clusters=2)\n",
        "\n",
        "# assign each data point to a cluster\n",
        "agglomerative_result = agglomerative_model.fit_predict(train)\n",
        "print(agglomerative_result)\n",
        "# get all of the unique clusters\n",
        "agglomerative_clusters = np.unique(agglomerative_result)\n",
        "\n",
        "# plot the clusters\n",
        "for agglomerative_cluster in agglomerative_clusters:\n",
        "    # get data points that fall in this cluster\n",
        "    index = np.where(agglomerative_result == agglomerative_cluster)\n",
        "    # make the plot\n",
        "    plt.scatter(tsne_transformed[index, 0], tsne_transformed[index, 1])\n",
        "\n",
        "# show the Agglomerative Hierarchy plot\n",
        "plt.show()"
      ],
      "execution_count": null,
      "outputs": [
        {
          "output_type": "stream",
          "name": "stdout",
          "text": [
            "[1 0 1 ... 1 0 1]\n"
          ]
        },
        {
          "output_type": "display_data",
          "data": {
            "image/png": "[encoded data removed]",
            "text/plain": [
              "<Figure size 432x288 with 1 Axes>"
            ]
          },
          "metadata": {
            "needs_background": "light"
          }
        }
      ]
    },
    {
      "cell_type": "markdown",
      "metadata": {
        "id": "6GEQlkIga30u"
      },
      "source": [
        "Name: Shivam Shrivastav  \n",
        "Student ID: 015275000  \n",
        "\n",
        "Data Set  \n",
        "The data set I used for the assignment is \"User Activity Recognition\" available on Kaggle:   \n",
        "https://www.kaggle.com/uciml/human-activity-recognition-with-smartphones\n",
        "The data was collected using a smartphone. Each user, who contributed the data, performed the following 6 activities wearing a smartphone on their waist: LAYING, SITTING, STANDING, WALKING,WALKING_DOWNSTAIRS, WALKING_UPSTAIRS.\n",
        " \n",
        " \n",
        " \n",
        "\n",
        "\n",
        "Findings:   \n",
        "\n",
        "Compare and contrast your recent clusterings (2) with the previous K-means.\n",
        " \n",
        "\n",
        "KMeans Randomly assign initial data points to its nearest cluster.\n",
        "\n",
        "\n",
        "GMM attempts to find a mixture of multi-dimensional Gaussian probability distributions.\n",
        "\n",
        "Hierarchical clustering follows a bottom up approach dividing the data point into a different cluster. \n",
        "Randomly assign initial clusters, assign each sample to its nearest centroid then get new centroids by averaging out the assignment.\n",
        "\n",
        "\n",
        "GMM is flexible with the boundaries since they have covariance types.\n",
        "The bottom up approach creates n clusters for n data points and then merges them to nearest clusters they belong to.\n",
        "K-means begins with a random cluster center, thus, it gives different clustering results on different runs of the algorithm.\n",
        " \n",
        "K-means clustering requires prior knowledge for the value of K.\n",
        "\n",
        "GMM is flexible with the boundaries as they have covariance types.\n",
        "\n",
        "In hierarchical clustering we can stop at whichever cluster we want. The results remain the same in every iteration of the algorithm.\n",
        "\n",
        "KMeans lack of flexibility in cluster shape and lack of probabilistic cluster assignment—mean that for many datasets (especially low-dimensional datasets) it may not perform as well.\n",
        "\n",
        "\n",
        "A Gaussian mixture model (GMM) attempts to find a mixture of multi-dimensional Gaussian probability distributions that best model any input dataset. In the simplest case, GMMs can be used for finding clusters in the same manner as k-means.\n",
        "\n",
        "\n",
        "Hierarchical clustering requires the computation and storage of an n×n  distance matrix. For very large datasets, this can be expensive and slow.\n",
        "\n",
        "\n",
        "\n",
        "\t\n",
        "\n"
      ]
    }
  ]
}