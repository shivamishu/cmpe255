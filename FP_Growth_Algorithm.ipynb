{
  "nbformat": 4,
  "nbformat_minor": 0,
  "metadata": {
    "colab": {
      "name": "FP_Growth_Algorithm.ipynb",
      "provenance": [],
      "include_colab_link": true
    },
    "kernelspec": {
      "name": "python3",
      "display_name": "Python 3"
    },
    "language_info": {
      "name": "python"
    }
  },
  "cells": [
    {
      "cell_type": "markdown",
      "metadata": {
        "id": "view-in-github",
        "colab_type": "text"
      },
      "source": [
        "<a href=\"https://colab.research.google.com/github/shivamishu/cmpe255/blob/main/FP_Growth_Algorithm.ipynb\" target=\"_parent\"><img src=\"https://colab.research.google.com/assets/colab-badge.svg\" alt=\"Open In Colab\"/></a>"
      ]
    },
    {
      "cell_type": "markdown",
      "metadata": {
        "id": "oyOXhCczxKHL"
      },
      "source": [
        "The FP-Growth Algorithm, proposed by Han in , is an efficient and scalable method for mining the complete set of frequent patterns by pattern fragment growth, using an extended prefix-tree structure for storing compressed and crucial information about frequent patterns named frequent-pattern tree (FP-tree)."
      ]
    },
    {
      "cell_type": "code",
      "metadata": {
        "id": "skg3qskPuwyw"
      },
      "source": [
        "class treeNode:\n",
        "    def __init__(self, nameValue, numOccur, parentNode):\n",
        "        self.name = nameValue\n",
        "        self.count = numOccur\n",
        "        self.nodeLink = None\n",
        "        self.parent = parentNode      #needs to be updated\n",
        "        self.children = {} \n",
        "#increments the count variable with a given amount    \n",
        "    def inc(self, numOccur):\n",
        "        self.count += numOccur\n",
        "#display tree in text. Useful for debugging        \n",
        "    def disp(self, ind=1):\n",
        "        print ('  '*ind, self.name, ' ', self.count)\n",
        "        for child in self.children.values():\n",
        "            child.disp(ind+1)"
      ],
      "execution_count": null,
      "outputs": []
    },
    {
      "cell_type": "code",
      "metadata": {
        "id": "a_YS58qTuxgm"
      },
      "source": [
        "rootNode = treeNode('pyramid',9,None)"
      ],
      "execution_count": null,
      "outputs": []
    },
    {
      "cell_type": "code",
      "metadata": {
        "id": "ZX6Uobz6uz2H"
      },
      "source": [
        "rootNode.children['eye'] = treeNode('eye',13,None)"
      ],
      "execution_count": null,
      "outputs": []
    },
    {
      "cell_type": "code",
      "metadata": {
        "colab": {
          "base_uri": "https://localhost:8080/"
        },
        "id": "GDOnxmiHu2kE",
        "outputId": "b5ce79a5-dd79-4156-8ce4-0b4c72c8d9d5"
      },
      "source": [
        "rootNode.disp()"
      ],
      "execution_count": null,
      "outputs": [
        {
          "output_type": "stream",
          "name": "stdout",
          "text": [
            "   pyramid   9\n",
            "     eye   13\n"
          ]
        }
      ]
    },
    {
      "cell_type": "markdown",
      "metadata": {
        "id": "GZnBdIZpwz-y"
      },
      "source": [
        "**FP-tree Construction**"
      ]
    },
    {
      "cell_type": "code",
      "metadata": {
        "id": "Mz7ZX3Rsu4iU"
      },
      "source": [
        "def createTree(dataSet, minSup=1): #create FP-tree from dataset but don't mine\n",
        "    headerTable = {}\n",
        "    #go over dataSet twice\n",
        "    for trans in dataSet:#first pass counts frequency of occurance\n",
        "        for item in trans:\n",
        "            headerTable[item] = headerTable.get(item, 0) + dataSet[trans]\n",
        "    for k in list(headerTable):  #remove items not meeting minSup\n",
        "        if headerTable[k] < minSup: \n",
        "            del(headerTable[k])\n",
        "    freqItemSet = set(headerTable.keys())\n",
        "    #print 'freqItemSet: ',freqItemSet\n",
        "    if len(freqItemSet) == 0: return None, None  #if no items meet min support -->get out\n",
        "    for k in headerTable:\n",
        "        headerTable[k] = [headerTable[k], None] #reformat headerTable to use Node link \n",
        "    #print 'headerTable: ',headerTable\n",
        "    retTree = treeNode('Null Set', 1, None) #create tree\n",
        "    for tranSet, count in dataSet.items():  #go through dataset 2nd time\n",
        "        localD = {}\n",
        "        for item in tranSet:  #put transaction items in order\n",
        "            if item in freqItemSet:\n",
        "                localD[item] = headerTable[item][0]\n",
        "        if len(localD) > 0:\n",
        "            orderedItems = [v[0] for v in sorted(localD.items(), key=lambda p: p[1], reverse=True)]\n",
        "            updateTree(orderedItems, retTree, headerTable, count)#populate tree with ordered freq itemset\n",
        "    return retTree, headerTable #return tree and header table"
      ],
      "execution_count": null,
      "outputs": []
    },
    {
      "cell_type": "code",
      "metadata": {
        "id": "EE9OvDB_wOQ-"
      },
      "source": [
        "def updateTree(items, inTree, headerTable, count):\n",
        "    if items[0] in inTree.children:#check if orderedItems[0] in retTree.children\n",
        "        inTree.children[items[0]].inc(count) #incrament count\n",
        "    else:   #add items[0] to inTree.children\n",
        "        inTree.children[items[0]] = treeNode(items[0], count, inTree)\n",
        "        if headerTable[items[0]][1] == None: #update header table \n",
        "            headerTable[items[0]][1] = inTree.children[items[0]]\n",
        "        else:\n",
        "            updateHeader(headerTable[items[0]][1], inTree.children[items[0]])\n",
        "    if len(items) > 1:#call updateTree() with remaining ordered items\n",
        "        updateTree(items[1::], inTree.children[items[0]], headerTable, count)"
      ],
      "execution_count": null,
      "outputs": []
    },
    {
      "cell_type": "code",
      "metadata": {
        "id": "j9K_oopvu9Zu"
      },
      "source": [
        "def updateHeader(nodeToTest, targetNode):   #this version does not use recursion\n",
        "    while (nodeToTest.nodeLink != None):    #Do not use recursion to traverse a linked list!\n",
        "        nodeToTest = nodeToTest.nodeLink\n",
        "    nodeToTest.nodeLink = targetNode"
      ],
      "execution_count": null,
      "outputs": []
    },
    {
      "cell_type": "code",
      "metadata": {
        "id": "q5YIFOpcvAHb"
      },
      "source": [
        "def loadSimpDat():\n",
        "    simpDat = [['r', 'z', 'h', 'j', 'p'],\n",
        "               ['z', 'y', 'x', 'w', 'v', 'u', 't', 's'],\n",
        "               ['z'],\n",
        "               ['r', 'x', 'n', 'o', 's'],\n",
        "               ['y', 'r', 'x', 'z', 'q', 't', 'p'],\n",
        "               ['y', 'z', 'x', 'e', 'q', 's', 't', 'm']]\n",
        "    return simpDat"
      ],
      "execution_count": null,
      "outputs": []
    },
    {
      "cell_type": "code",
      "metadata": {
        "id": "1N-uDFlzvCiM"
      },
      "source": [
        "def createInitSet(dataSet):\n",
        "    retDict = {}\n",
        "    for trans in dataSet:\n",
        "        retDict[frozenset(trans)] = 1\n",
        "    return retDict"
      ],
      "execution_count": null,
      "outputs": []
    },
    {
      "cell_type": "code",
      "metadata": {
        "id": "pSqCp7IcvE4S"
      },
      "source": [
        "simpDat = loadSimpDat()"
      ],
      "execution_count": null,
      "outputs": []
    },
    {
      "cell_type": "code",
      "metadata": {
        "colab": {
          "base_uri": "https://localhost:8080/"
        },
        "id": "TyyNYQ1LvHQa",
        "outputId": "51a7eb40-e4e2-44a2-8004-65224d651ad7"
      },
      "source": [
        "simpDat"
      ],
      "execution_count": null,
      "outputs": [
        {
          "output_type": "execute_result",
          "data": {
            "text/plain": [
              "[['r', 'z', 'h', 'j', 'p'],\n",
              " ['z', 'y', 'x', 'w', 'v', 'u', 't', 's'],\n",
              " ['z'],\n",
              " ['r', 'x', 'n', 'o', 's'],\n",
              " ['y', 'r', 'x', 'z', 'q', 't', 'p'],\n",
              " ['y', 'z', 'x', 'e', 'q', 's', 't', 'm']]"
            ]
          },
          "metadata": {},
          "execution_count": 29
        }
      ]
    },
    {
      "cell_type": "code",
      "metadata": {
        "id": "1JJZy9_ivJGa"
      },
      "source": [
        "initSet = createInitSet(simpDat)"
      ],
      "execution_count": null,
      "outputs": []
    },
    {
      "cell_type": "code",
      "metadata": {
        "colab": {
          "base_uri": "https://localhost:8080/"
        },
        "id": "bvG8jv2JvMR5",
        "outputId": "f4f1c736-57cc-4670-b9d6-c024822c8177"
      },
      "source": [
        "initSet"
      ],
      "execution_count": null,
      "outputs": [
        {
          "output_type": "execute_result",
          "data": {
            "text/plain": [
              "{frozenset({'z'}): 1,\n",
              " frozenset({'h', 'j', 'p', 'r', 'z'}): 1,\n",
              " frozenset({'s', 't', 'u', 'v', 'w', 'x', 'y', 'z'}): 1,\n",
              " frozenset({'n', 'o', 'r', 's', 'x'}): 1,\n",
              " frozenset({'p', 'q', 'r', 't', 'x', 'y', 'z'}): 1,\n",
              " frozenset({'e', 'm', 'q', 's', 't', 'x', 'y', 'z'}): 1}"
            ]
          },
          "metadata": {},
          "execution_count": 31
        }
      ]
    },
    {
      "cell_type": "code",
      "metadata": {
        "id": "UcFWSIbtvNzR"
      },
      "source": [
        "#The FP-tree\n",
        "myFPtree, myHeaderTab = createTree(initSet, 3)"
      ],
      "execution_count": null,
      "outputs": []
    },
    {
      "cell_type": "code",
      "metadata": {
        "colab": {
          "base_uri": "https://localhost:8080/"
        },
        "id": "XhsTmSBzvRYw",
        "outputId": "16411ba5-16f1-4154-aa48-44297b75fc58"
      },
      "source": [
        "myFPtree.disp()"
      ],
      "execution_count": null,
      "outputs": [
        {
          "output_type": "stream",
          "name": "stdout",
          "text": [
            "   Null Set   1\n",
            "     z   5\n",
            "       r   1\n",
            "       x   3\n",
            "         s   2\n",
            "           t   2\n",
            "             y   2\n",
            "         r   1\n",
            "           t   1\n",
            "             y   1\n",
            "     x   1\n",
            "       s   1\n",
            "         r   1\n"
          ]
        }
      ]
    },
    {
      "cell_type": "markdown",
      "metadata": {
        "id": "PRmUgzjPwlHY"
      },
      "source": [
        "**The item and its frequency count are displayed with indentation representing the depth of the tree**"
      ]
    }
  ]
}