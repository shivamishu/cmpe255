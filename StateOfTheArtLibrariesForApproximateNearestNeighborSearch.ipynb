{
  "nbformat": 4,
  "nbformat_minor": 0,
  "metadata": {
    "colab": {
      "name": "StateOfTheArtLibrariesForApproximateNearestNeighborSearch.ipynb",
      "provenance": [],
      "toc_visible": true,
      "include_colab_link": true
    },
    "kernelspec": {
      "name": "python3",
      "display_name": "Python 3"
    },
    "language_info": {
      "name": "python"
    }
  },
  "cells": [
    {
      "cell_type": "markdown",
      "metadata": {
        "id": "view-in-github",
        "colab_type": "text"
      },
      "source": [
        "<a href=\"https://colab.research.google.com/github/shivamishu/cmpe255/blob/main/StateOfTheArtLibrariesForApproximateNearestNeighborSearch.ipynb\" target=\"_parent\"><img src=\"https://colab.research.google.com/assets/colab-badge.svg\" alt=\"Open In Colab\"/></a>"
      ]
    },
    {
      "cell_type": "markdown",
      "metadata": {
        "id": "WIVy6hWtY-m5"
      },
      "source": [
        "**Using state of the art libraries for Approximate nearest neighbor**"
      ]
    },
    {
      "cell_type": "markdown",
      "metadata": {
        "id": "v2BlKzCFd0RL"
      },
      "source": [
        "**Shivam Shrivastav**"
      ]
    },
    {
      "cell_type": "markdown",
      "metadata": {
        "id": "EuLa87uEm0Hn"
      },
      "source": [
        "#**Implementing the below ANN alogorithms**\n",
        "\n",
        "1. Exhaustive Search\n",
        "2. Product Quantization\n",
        "3. Trees and Graphs\n",
        "4. LSH: Locality-sensitive hashing\n",
        "5. HNSW: Hierarchical Navigable Small World"
      ]
    },
    {
      "cell_type": "markdown",
      "metadata": {
        "id": "rOzXAfSYn6IO"
      },
      "source": [
        "##**Implementing above all using Faiss**"
      ]
    },
    {
      "cell_type": "code",
      "metadata": {
        "colab": {
          "base_uri": "https://localhost:8080/"
        },
        "id": "5OInxTWplJtZ",
        "outputId": "0f73a1b0-0369-4871-b33e-8ef4cfa580a6"
      },
      "source": [
        "!pip install faiss"
      ],
      "execution_count": null,
      "outputs": [
        {
          "output_type": "stream",
          "name": "stdout",
          "text": [
            "Requirement already satisfied: faiss in /usr/local/lib/python3.7/dist-packages (1.5.3)\n",
            "Requirement already satisfied: numpy in /usr/local/lib/python3.7/dist-packages (from faiss) (1.19.5)\n"
          ]
        }
      ]
    },
    {
      "cell_type": "code",
      "metadata": {
        "colab": {
          "base_uri": "https://localhost:8080/"
        },
        "id": "FVWyLVZZw6Ic",
        "outputId": "385af64e-3e97-4a82-bd07-14df802e9031"
      },
      "source": [
        "!pip3 install faiss\n",
        "!sudo apt-get install libopenblas-dev\n",
        "!sudo apt-get install libomp-dev"
      ],
      "execution_count": null,
      "outputs": [
        {
          "output_type": "stream",
          "name": "stdout",
          "text": [
            "Requirement already satisfied: faiss in /usr/local/lib/python3.7/dist-packages (1.5.3)\n",
            "Requirement already satisfied: numpy in /usr/local/lib/python3.7/dist-packages (from faiss) (1.19.5)\n",
            "Reading package lists... Done\n",
            "Building dependency tree       \n",
            "Reading state information... Done\n",
            "libopenblas-dev is already the newest version (0.2.20+ds-4).\n",
            "0 upgraded, 0 newly installed, 0 to remove and 37 not upgraded.\n",
            "Reading package lists... Done\n",
            "Building dependency tree       \n",
            "Reading state information... Done\n",
            "libomp-dev is already the newest version (5.0.1-1).\n",
            "0 upgraded, 0 newly installed, 0 to remove and 37 not upgraded.\n"
          ]
        }
      ]
    },
    {
      "cell_type": "code",
      "metadata": {
        "id": "Md6V_Ehlxl3o"
      },
      "source": [
        "import faiss\n",
        "import pickle\n",
        "import pandas as pd\n"
      ],
      "execution_count": null,
      "outputs": []
    },
    {
      "cell_type": "code",
      "metadata": {
        "colab": {
          "base_uri": "https://localhost:8080/"
        },
        "id": "NR9G9UMaQL5Y",
        "outputId": "64560a11-f90b-4319-8ca5-be6822c23e63"
      },
      "source": [
        "!pwd"
      ],
      "execution_count": null,
      "outputs": [
        {
          "output_type": "stream",
          "name": "stdout",
          "text": [
            "/content\n"
          ]
        }
      ]
    },
    {
      "cell_type": "code",
      "metadata": {
        "colab": {
          "base_uri": "https://localhost:8080/"
        },
        "id": "RnjlFvi-QU36",
        "outputId": "1a96638e-ccb2-459d-d1f6-1a31b0cf39d8"
      },
      "source": [
        "!ls\n"
      ],
      "execution_count": null,
      "outputs": [
        {
          "output_type": "stream",
          "name": "stdout",
          "text": [
            "drive  movies.pickle  sample_data\n"
          ]
        }
      ]
    },
    {
      "cell_type": "markdown",
      "metadata": {
        "id": "gQslbW43cdrt"
      },
      "source": [
        "**pickle load function**"
      ]
    },
    {
      "cell_type": "code",
      "metadata": {
        "colab": {
          "base_uri": "https://localhost:8080/"
        },
        "id": "SLJQTQhYQX6V",
        "outputId": "a243065e-cc0e-49b4-a679-eae65730df8a"
      },
      "source": [
        "def data_set():\n",
        "    with open('movies.pickle', 'rb') as f:\n",
        "        data = pickle.load(f)\n",
        "    return data\n",
        "\n",
        "data = data_set()\n",
        "vectors = data[\"vector\"]\n",
        "names = data[\"name\"]\n",
        "data"
      ],
      "execution_count": null,
      "outputs": [
        {
          "output_type": "execute_result",
          "data": {
            "text/plain": [
              "{'name': array(['Toy Story (1995)', 'GoldenEye (1995)', 'Four Rooms (1995)', ...,\n",
              "        'Sliding Doors (1998)', 'You So Crazy (1994)',\n",
              "        'Scream of Stone (Schrei aus Stein) (1991)'], dtype=object),\n",
              " 'vector': array([[-0.01780608, -0.14265831,  0.10308606, ...,  0.09659795,\n",
              "         -0.17529577, -0.03061521],\n",
              "        [-0.03357764,  0.16418771,  0.21801303, ...,  0.16502103,\n",
              "         -0.09166156,  0.05047869],\n",
              "        [-0.2761452 , -0.01991325, -0.04969981, ...,  0.0258275 ,\n",
              "         -0.08328608, -0.0152858 ],\n",
              "        ...,\n",
              "        [ 0.05142734, -0.01683608, -0.20441587, ...,  0.00045828,\n",
              "          0.14679626,  0.2462584 ],\n",
              "        [ 0.04491899, -0.02819411, -0.09472758, ..., -0.02152078,\n",
              "          0.16223577,  0.19897607],\n",
              "        [ 0.02531924,  0.03099714,  0.06437534, ..., -0.07260127,\n",
              "          0.0467432 ,  0.07893164]], dtype=float32)}"
            ]
          },
          "metadata": {},
          "execution_count": 21
        }
      ]
    },
    {
      "cell_type": "markdown",
      "metadata": {
        "id": "P4dvzvdZStYF"
      },
      "source": [
        "#**Exhaustive Search**\n",
        "\n",
        "Comparing each point to every other point, which will require Linear query time (the size of the dataset)"
      ]
    },
    {
      "cell_type": "code",
      "metadata": {
        "id": "HDaSb4SAHPMR"
      },
      "source": [
        "class BruteForceIndex():\n",
        "    def __init__(self, vectors, labels):\n",
        "        self.vectors = vectors.astype('float32')\n",
        "        self.labels = labels\n",
        "        self.index = faiss.IndexFlatL2(vectors.shape[1])\n",
        "        self.index.add(self.vectors)\n",
        "        \n",
        "    def query(self, vectors, k=10):\n",
        "        distances, indices = self.index.search(vectors, k) \n",
        "        return [self.labels[i] for i in indices[0]]"
      ],
      "execution_count": null,
      "outputs": []
    },
    {
      "cell_type": "code",
      "metadata": {
        "id": "rlpfABdtS1MG"
      },
      "source": [
        "index = BruteForceIndex(data[\"vector\"], data[\"name\"])\n",
        "#index.build()"
      ],
      "execution_count": null,
      "outputs": []
    },
    {
      "cell_type": "markdown",
      "metadata": {
        "id": "MV8SCoezdVoU"
      },
      "source": [
        "## Checking Similarity"
      ]
    },
    {
      "cell_type": "code",
      "metadata": {
        "colab": {
          "base_uri": "https://localhost:8080/"
        },
        "id": "UaX7HsfCS39-",
        "outputId": "645b1afc-3166-465f-f43c-a839c433f235"
      },
      "source": [
        "movie_vector, movie_name = data['vector'][80:91], data['name'][80]\n",
        "simlar_movies_names = '\\n* '.join(index.query(movie_vector))\n",
        "print(f\"The most similar movies to {movie_name} are:\\n* {simlar_movies_names}\")\n"
      ],
      "execution_count": null,
      "outputs": [
        {
          "output_type": "stream",
          "name": "stdout",
          "text": [
            "The most similar movies to Hudsucker Proxy, The (1994) are:\n",
            "* Hudsucker Proxy, The (1994)\n",
            "* Bob Roberts (1992)\n",
            "* Ed Wood (1994)\n",
            "* Heathers (1989)\n",
            "* This Is Spinal Tap (1984)\n",
            "* Sirens (1994)\n",
            "* In the Name of the Father (1993)\n",
            "* Vanya on 42nd Street (1994)\n",
            "* Quiz Show (1994)\n",
            "* What's Eating Gilbert Grape (1993)\n"
          ]
        }
      ]
    },
    {
      "cell_type": "markdown",
      "metadata": {
        "id": "PX5Zx179UNGd"
      },
      "source": [
        "# **Product Quantization**\n",
        "\n",
        "Product quantization is an effective vector quantization approach to compactly encode high-dimensional vectors for fast approximate nearest neighbor (ANN) search."
      ]
    },
    {
      "cell_type": "code",
      "metadata": {
        "id": "35hkPfUVTSNw"
      },
      "source": [
        "class PQIndex():\n",
        "    def __init__(self, vectors, labels):\n",
        "        self.dimention = vectors.shape[1]\n",
        "        self.vectors = vectors.astype('float32')\n",
        "        self.labels = labels\n",
        "\n",
        "\n",
        "    def build(self, number_of_partition=8, search_in_x_partitions=2, subvector_size=8):\n",
        "        quantizer = faiss.IndexFlatL2(self.dimention)\n",
        "        self.index = faiss.IndexIVFPQ(quantizer, \n",
        "                                      self.dimention, \n",
        "                                      number_of_partition, \n",
        "                                      search_in_x_partitions, \n",
        "                                      subvector_size)\n",
        "        self.index.train(self.vectors)\n",
        "        self.index.add(self.vectors)\n",
        "        \n",
        "    def query(self, vectors, k=10):\n",
        "        distances, indices = self.index.search(vectors, k) \n",
        "        return [self.labels[i] for i in indices[0]]"
      ],
      "execution_count": null,
      "outputs": []
    },
    {
      "cell_type": "code",
      "metadata": {
        "id": "j0qqwUWDUfB8"
      },
      "source": [
        "index = PQIndex(data[\"vector\"], data[\"name\"])\n",
        "index.build()"
      ],
      "execution_count": null,
      "outputs": []
    },
    {
      "cell_type": "markdown",
      "metadata": {
        "id": "Oiopk6U6dZqR"
      },
      "source": [
        "## Checking Similarity"
      ]
    },
    {
      "cell_type": "code",
      "metadata": {
        "colab": {
          "base_uri": "https://localhost:8080/"
        },
        "id": "A-cYh2_dUh8S",
        "outputId": "8634249b-d95f-4e93-8d6d-bbd1f7559f28"
      },
      "source": [
        "movie_index = 80\n",
        "movie_vector = data['vector'][movie_index:movie_index+1]\n",
        "print(f\"The most simillar movies to {data['name'][movie_index]} are:\")\n",
        "index.query(movie_vector)"
      ],
      "execution_count": null,
      "outputs": [
        {
          "output_type": "stream",
          "name": "stdout",
          "text": [
            "The most simillar movies to Hudsucker Proxy, The (1994) are:\n"
          ]
        },
        {
          "output_type": "execute_result",
          "data": {
            "text/plain": [
              "['Hudsucker Proxy, The (1994)',\n",
              " 'Bob Roberts (1992)',\n",
              " 'Secret Garden, The (1993)',\n",
              " 'Ed Wood (1994)',\n",
              " 'Bullets Over Broadway (1994)',\n",
              " 'Nikita (La Femme Nikita) (1990)',\n",
              " 'Harold and Maude (1971)',\n",
              " 'Sirens (1994)',\n",
              " \"Microcosmos: Le peuple de l'herbe (1996)\",\n",
              " 'Fearless (1993)']"
            ]
          },
          "metadata": {},
          "execution_count": 27
        }
      ]
    },
    {
      "cell_type": "markdown",
      "metadata": {
        "id": "RaT8LfBhk0yV"
      },
      "source": [
        "# **Trees and Graph**"
      ]
    },
    {
      "cell_type": "code",
      "metadata": {
        "colab": {
          "base_uri": "https://localhost:8080/"
        },
        "id": "ayXy09yRtgUo",
        "outputId": "50f0ae06-babd-4568-cda6-aff1b1959a64"
      },
      "source": [
        "!pip install annoy"
      ],
      "execution_count": null,
      "outputs": [
        {
          "output_type": "stream",
          "name": "stdout",
          "text": [
            "Collecting annoy\n",
            "  Downloading annoy-1.17.0.tar.gz (646 kB)\n",
            "\u001b[?25l\r\u001b[K     |▌                               | 10 kB 29.6 MB/s eta 0:00:01\r\u001b[K     |█                               | 20 kB 33.8 MB/s eta 0:00:01\r\u001b[K     |█▌                              | 30 kB 37.8 MB/s eta 0:00:01\r\u001b[K     |██                              | 40 kB 37.6 MB/s eta 0:00:01\r\u001b[K     |██▌                             | 51 kB 36.9 MB/s eta 0:00:01\r\u001b[K     |███                             | 61 kB 37.1 MB/s eta 0:00:01\r\u001b[K     |███▌                            | 71 kB 38.8 MB/s eta 0:00:01\r\u001b[K     |████                            | 81 kB 39.0 MB/s eta 0:00:01\r\u001b[K     |████▋                           | 92 kB 40.6 MB/s eta 0:00:01\r\u001b[K     |█████                           | 102 kB 39.0 MB/s eta 0:00:01\r\u001b[K     |█████▋                          | 112 kB 39.0 MB/s eta 0:00:01\r\u001b[K     |██████                          | 122 kB 39.0 MB/s eta 0:00:01\r\u001b[K     |██████▋                         | 133 kB 39.0 MB/s eta 0:00:01\r\u001b[K     |███████                         | 143 kB 39.0 MB/s eta 0:00:01\r\u001b[K     |███████▋                        | 153 kB 39.0 MB/s eta 0:00:01\r\u001b[K     |████████▏                       | 163 kB 39.0 MB/s eta 0:00:01\r\u001b[K     |████████▋                       | 174 kB 39.0 MB/s eta 0:00:01\r\u001b[K     |█████████▏                      | 184 kB 39.0 MB/s eta 0:00:01\r\u001b[K     |█████████▋                      | 194 kB 39.0 MB/s eta 0:00:01\r\u001b[K     |██████████▏                     | 204 kB 39.0 MB/s eta 0:00:01\r\u001b[K     |██████████▋                     | 215 kB 39.0 MB/s eta 0:00:01\r\u001b[K     |███████████▏                    | 225 kB 39.0 MB/s eta 0:00:01\r\u001b[K     |███████████▋                    | 235 kB 39.0 MB/s eta 0:00:01\r\u001b[K     |████████████▏                   | 245 kB 39.0 MB/s eta 0:00:01\r\u001b[K     |████████████▊                   | 256 kB 39.0 MB/s eta 0:00:01\r\u001b[K     |█████████████▏                  | 266 kB 39.0 MB/s eta 0:00:01\r\u001b[K     |█████████████▊                  | 276 kB 39.0 MB/s eta 0:00:01\r\u001b[K     |██████████████▏                 | 286 kB 39.0 MB/s eta 0:00:01\r\u001b[K     |██████████████▊                 | 296 kB 39.0 MB/s eta 0:00:01\r\u001b[K     |███████████████▏                | 307 kB 39.0 MB/s eta 0:00:01\r\u001b[K     |███████████████▊                | 317 kB 39.0 MB/s eta 0:00:01\r\u001b[K     |████████████████▎               | 327 kB 39.0 MB/s eta 0:00:01\r\u001b[K     |████████████████▊               | 337 kB 39.0 MB/s eta 0:00:01\r\u001b[K     |█████████████████▎              | 348 kB 39.0 MB/s eta 0:00:01\r\u001b[K     |█████████████████▊              | 358 kB 39.0 MB/s eta 0:00:01\r\u001b[K     |██████████████████▎             | 368 kB 39.0 MB/s eta 0:00:01\r\u001b[K     |██████████████████▊             | 378 kB 39.0 MB/s eta 0:00:01\r\u001b[K     |███████████████████▎            | 389 kB 39.0 MB/s eta 0:00:01\r\u001b[K     |███████████████████▊            | 399 kB 39.0 MB/s eta 0:00:01\r\u001b[K     |████████████████████▎           | 409 kB 39.0 MB/s eta 0:00:01\r\u001b[K     |████████████████████▉           | 419 kB 39.0 MB/s eta 0:00:01\r\u001b[K     |█████████████████████▎          | 430 kB 39.0 MB/s eta 0:00:01\r\u001b[K     |█████████████████████▉          | 440 kB 39.0 MB/s eta 0:00:01\r\u001b[K     |██████████████████████▎         | 450 kB 39.0 MB/s eta 0:00:01\r\u001b[K     |██████████████████████▉         | 460 kB 39.0 MB/s eta 0:00:01\r\u001b[K     |███████████████████████▎        | 471 kB 39.0 MB/s eta 0:00:01\r\u001b[K     |███████████████████████▉        | 481 kB 39.0 MB/s eta 0:00:01\r\u001b[K     |████████████████████████▍       | 491 kB 39.0 MB/s eta 0:00:01\r\u001b[K     |████████████████████████▉       | 501 kB 39.0 MB/s eta 0:00:01\r\u001b[K     |█████████████████████████▍      | 512 kB 39.0 MB/s eta 0:00:01\r\u001b[K     |█████████████████████████▉      | 522 kB 39.0 MB/s eta 0:00:01\r\u001b[K     |██████████████████████████▍     | 532 kB 39.0 MB/s eta 0:00:01\r\u001b[K     |██████████████████████████▉     | 542 kB 39.0 MB/s eta 0:00:01\r\u001b[K     |███████████████████████████▍    | 552 kB 39.0 MB/s eta 0:00:01\r\u001b[K     |███████████████████████████▉    | 563 kB 39.0 MB/s eta 0:00:01\r\u001b[K     |████████████████████████████▍   | 573 kB 39.0 MB/s eta 0:00:01\r\u001b[K     |█████████████████████████████   | 583 kB 39.0 MB/s eta 0:00:01\r\u001b[K     |█████████████████████████████▍  | 593 kB 39.0 MB/s eta 0:00:01\r\u001b[K     |██████████████████████████████  | 604 kB 39.0 MB/s eta 0:00:01\r\u001b[K     |██████████████████████████████▍ | 614 kB 39.0 MB/s eta 0:00:01\r\u001b[K     |███████████████████████████████ | 624 kB 39.0 MB/s eta 0:00:01\r\u001b[K     |███████████████████████████████▍| 634 kB 39.0 MB/s eta 0:00:01\r\u001b[K     |████████████████████████████████| 645 kB 39.0 MB/s eta 0:00:01\r\u001b[K     |████████████████████████████████| 646 kB 39.0 MB/s \n",
            "\u001b[?25hBuilding wheels for collected packages: annoy\n",
            "  Building wheel for annoy (setup.py) ... \u001b[?25l\u001b[?25hdone\n",
            "  Created wheel for annoy: filename=annoy-1.17.0-cp37-cp37m-linux_x86_64.whl size=391692 sha256=8446334f34f319356fb11f10aef935390304f58c32365c083e9043ea7fb7a50d\n",
            "  Stored in directory: /root/.cache/pip/wheels/4f/e8/1e/7cc9ebbfa87a3b9f8ba79408d4d31831d67eea918b679a4c07\n",
            "Successfully built annoy\n",
            "Installing collected packages: annoy\n",
            "Successfully installed annoy-1.17.0\n"
          ]
        }
      ]
    },
    {
      "cell_type": "code",
      "metadata": {
        "id": "8fmTEoBeueLd"
      },
      "source": [
        "import annoy\n",
        "class AnnoyIndex():\n",
        "    def __init__(self, vectors, labels):\n",
        "        self.dimention = vectors.shape[1]\n",
        "        self.vectors = vectors.astype('float32')\n",
        "        self.labels = labels\n",
        "\n",
        "\n",
        "    def build(self, number_of_trees=5):\n",
        "        self.index = annoy.AnnoyIndex(self.dimention)\n",
        "        for i, vec in enumerate(self.vectors):\n",
        "            self.index.add_item(i, vec.tolist())\n",
        "        self.index.build(number_of_trees)\n",
        "        \n",
        "    def query(self, vector, k=10):\n",
        "        indices = self.index.get_nns_by_vector(vector.tolist(), k)\n",
        "        return [self.labels[i] for i in indices]"
      ],
      "execution_count": null,
      "outputs": []
    },
    {
      "cell_type": "code",
      "metadata": {
        "colab": {
          "base_uri": "https://localhost:8080/"
        },
        "id": "0E2J14Ecuqj3",
        "outputId": "6c16d85d-88c9-4a78-f54f-bb3339b52d59"
      },
      "source": [
        "index = AnnoyIndex(data[\"vector\"], data[\"name\"])\n",
        "index.build()"
      ],
      "execution_count": null,
      "outputs": [
        {
          "output_type": "stream",
          "name": "stderr",
          "text": [
            "/usr/local/lib/python3.7/dist-packages/ipykernel_launcher.py:10: FutureWarning: The default argument for metric will be removed in future version of Annoy. Please pass metric='angular' explicitly.\n",
            "  # Remove the CWD from sys.path while we load stuff.\n"
          ]
        }
      ]
    },
    {
      "cell_type": "markdown",
      "metadata": {
        "id": "OVcgmzNLdiY4"
      },
      "source": [
        "## Checking Similarity"
      ]
    },
    {
      "cell_type": "code",
      "metadata": {
        "colab": {
          "base_uri": "https://localhost:8080/"
        },
        "id": "Uc3-ixjWu2Dm",
        "outputId": "8a21dae0-1f12-46f9-da7d-5acc2f8fce8b"
      },
      "source": [
        "movie_vector, movie_name = data['vector'][70], data['name'][70]\n",
        "simlar_movies_names = '\\n* '.join(index.query(movie_vector))\n",
        "print(f\"The most similar movies to {movie_name} are:\\n* {simlar_movies_names}\")"
      ],
      "execution_count": null,
      "outputs": [
        {
          "output_type": "stream",
          "name": "stdout",
          "text": [
            "The most similar movies to Lion King, The (1994) are:\n",
            "* Lion King, The (1994)\n",
            "* Aladdin (1992)\n",
            "* Snow White and the Seven Dwarfs (1937)\n",
            "* Beauty and the Beast (1991)\n",
            "* Dumbo (1941)\n",
            "* Cinderella (1950)\n",
            "* Fantasia (1940)\n",
            "* Sound of Music, The (1965)\n",
            "* Pinocchio (1940)\n",
            "* E.T. the Extra-Terrestrial (1982)\n"
          ]
        }
      ]
    },
    {
      "cell_type": "markdown",
      "metadata": {
        "id": "tlUxysnxsf3t"
      },
      "source": [
        "#**LSH**\n",
        "LSH-based algorithms are one of the most common strategies when it comes to ANN. They construct a hash table as their data structure by mapping points that are nearby into the same bucket.\n",
        "\n",
        "I am going to show how to use faiss, to do “Approximate Nearest Neighbors Using LSH”."
      ]
    },
    {
      "cell_type": "code",
      "metadata": {
        "id": "-JFvdWRYwwlX"
      },
      "source": [
        "class LSHIndex():\n",
        "    def __init__(self, vectors, labels):\n",
        "        self.dimension = vectors.shape[1]\n",
        "        self.vectors = vectors.astype('float32')\n",
        "        self.labels = labels    \n",
        "   \n",
        "    def build(self, num_bits=8):\n",
        "        self.index = faiss.IndexLSH(self.dimension, num_bits)\n",
        "        self.index.add(self.vectors)\n",
        "        \n",
        "    def query(self, vectors, k=10):\n",
        "        distances, indices = self.index.search(vectors, k) \n",
        "        # I expect only query on one vector thus the slice\n",
        "        return [self.labels[i] for i in indices[0]]"
      ],
      "execution_count": null,
      "outputs": []
    },
    {
      "cell_type": "code",
      "metadata": {
        "id": "mDjTaZQzdqRc"
      },
      "source": [
        "index = LSHIndex(data[\"vector\"], data[\"name\"])\n",
        "index.build()"
      ],
      "execution_count": null,
      "outputs": []
    },
    {
      "cell_type": "code",
      "metadata": {
        "colab": {
          "base_uri": "https://localhost:8080/"
        },
        "id": "WyeGCxlmt7u2",
        "outputId": "17e7e4e4-3b30-4a29-8f38-4908e8f16d14"
      },
      "source": [
        "data[\"vector\"]"
      ],
      "execution_count": null,
      "outputs": [
        {
          "output_type": "execute_result",
          "data": {
            "text/plain": [
              "array([[-0.01780608, -0.14265831,  0.10308606, ...,  0.09659795,\n",
              "        -0.17529577, -0.03061521],\n",
              "       [-0.03357764,  0.16418771,  0.21801303, ...,  0.16502103,\n",
              "        -0.09166156,  0.05047869],\n",
              "       [-0.2761452 , -0.01991325, -0.04969981, ...,  0.0258275 ,\n",
              "        -0.08328608, -0.0152858 ],\n",
              "       ...,\n",
              "       [ 0.05142734, -0.01683608, -0.20441587, ...,  0.00045828,\n",
              "         0.14679626,  0.2462584 ],\n",
              "       [ 0.04491899, -0.02819411, -0.09472758, ..., -0.02152078,\n",
              "         0.16223577,  0.19897607],\n",
              "       [ 0.02531924,  0.03099714,  0.06437534, ..., -0.07260127,\n",
              "         0.0467432 ,  0.07893164]], dtype=float32)"
            ]
          },
          "metadata": {},
          "execution_count": 49
        }
      ]
    },
    {
      "cell_type": "code",
      "metadata": {
        "colab": {
          "base_uri": "https://localhost:8080/"
        },
        "id": "yEKOySORdtm1",
        "outputId": "da6b1407-1fc0-4c31-e6d3-57f283de8bfb"
      },
      "source": [
        "index.query(data['vector'])"
      ],
      "execution_count": null,
      "outputs": [
        {
          "output_type": "execute_result",
          "data": {
            "text/plain": [
              "['Supercop (1992)',\n",
              " 'Rumble in the Bronx (1995)',\n",
              " 'Mission: Impossible (1996)',\n",
              " 'Four Rooms (1995)',\n",
              " 'Donnie Brasco (1997)',\n",
              " 'Cold Comfort Farm (1995)',\n",
              " 'Toy Story (1995)',\n",
              " 'Angels and Insects (1995)',\n",
              " 'Twelve Monkeys (1995)',\n",
              " 'Lone Star (1996)']"
            ]
          },
          "metadata": {},
          "execution_count": 50
        }
      ]
    },
    {
      "cell_type": "markdown",
      "metadata": {
        "id": "PJ2BZG1qauQR"
      },
      "source": [
        "#**HNSW**"
      ]
    },
    {
      "cell_type": "code",
      "metadata": {
        "id": "j4weQGLkaz-R"
      },
      "source": [
        "import shutil\n",
        "import urllib.request as request\n",
        "from contextlib import closing\n",
        "\n",
        "# first we download the Sift1M dataset\n",
        "with closing(request.urlopen('ftp://ftp.irisa.fr/local/texmex/corpus/sift.tar.gz')) as r:\n",
        "    with open('sift.tar.gz', 'wb') as f:\n",
        "        shutil.copyfileobj(r, f)"
      ],
      "execution_count": 1,
      "outputs": []
    },
    {
      "cell_type": "markdown",
      "metadata": {
        "id": "Zy6LJxlzb8iz"
      },
      "source": [
        "##Data Charactersitics: \n",
        "\n",
        "https://archive.ics.uci.edu/ml/datasets/SIFT10M"
      ]
    },
    {
      "cell_type": "code",
      "metadata": {
        "id": "UVHY6ccva6FT"
      },
      "source": [
        "import tarfile\n",
        "\n",
        "# the download leaves us with a tar.gz file, we unzip it\n",
        "tar = tarfile.open('sift.tar.gz', \"r:gz\")\n",
        "tar.extractall()"
      ],
      "execution_count": 2,
      "outputs": []
    },
    {
      "cell_type": "code",
      "metadata": {
        "id": "TMsUSH9ja8Fg"
      },
      "source": [
        "import numpy as np\n",
        "\n",
        "# now define a function to read the fvecs file format of Sift1M dataset\n",
        "def read_fvecs(fp):\n",
        "    a = np.fromfile(fp, dtype='int32')\n",
        "    d = a[0]\n",
        "    return a.reshape(-1, d + 1)[:, 1:].copy().view('float32')"
      ],
      "execution_count": 3,
      "outputs": []
    },
    {
      "cell_type": "code",
      "metadata": {
        "colab": {
          "base_uri": "https://localhost:8080/"
        },
        "id": "HPqFvVxaa-GT",
        "outputId": "2f6923e6-540c-4d9b-e266-9d0979ead6c3"
      },
      "source": [
        "!ls\n"
      ],
      "execution_count": 4,
      "outputs": [
        {
          "output_type": "stream",
          "name": "stdout",
          "text": [
            "sample_data  sift  sift.tar.gz\n"
          ]
        }
      ]
    },
    {
      "cell_type": "code",
      "metadata": {
        "id": "kfEOSUqqbAev"
      },
      "source": [
        "# data we will search through\n",
        "wb = read_fvecs('/content/sift/sift_base.fvecs')  # 1M samples\n",
        "# also get some query vectors to search with\n",
        "xq = read_fvecs('./sift/sift_query.fvecs')\n",
        "# take just one query (there are many in sift_learn.fvecs)\n",
        "xq = xq[0].reshape(1, xq.shape[1])"
      ],
      "execution_count": 5,
      "outputs": []
    },
    {
      "cell_type": "code",
      "metadata": {
        "colab": {
          "base_uri": "https://localhost:8080/"
        },
        "id": "Fzb4IqNqbCfm",
        "outputId": "5c2ceccd-cc8b-487b-b6b1-7984e06d4805"
      },
      "source": [
        "print (xq)"
      ],
      "execution_count": 6,
      "outputs": [
        {
          "output_type": "stream",
          "name": "stdout",
          "text": [
            "[[  1.   3.  11. 110.  62.  22.   4.   0.  43.  21.  22.  18.   6.  28.\n",
            "   64.   9.  11.   1.   0.   0.   1.  40. 101.  21.  20.   2.   4.   2.\n",
            "    2.   9.  18.  35.   1.   1.   7.  25. 108. 116.  63.   2.   0.   0.\n",
            "   11.  74.  40. 101. 116.   3.  33.   1.   1.  11.  14.  18. 116. 116.\n",
            "   68.  12.   5.   4.   2.   2.   9. 102.  17.   3.  10.  18.   8.  15.\n",
            "   67.  63.  15.   0.  14. 116.  80.   0.   2.  22.  96.  37.  28.  88.\n",
            "   43.   1.   4.  18. 116.  51.   5.  11.  32.  14.   8.  23.  44.  17.\n",
            "   12.   9.   0.   0.  19.  37.  85.  18.  16. 104.  22.   6.   2.  26.\n",
            "   12.  58.  67.  82.  25.  12.   2.   2.  25.  18.   8.   2.  19.  42.\n",
            "   48.  11.]]\n"
          ]
        }
      ]
    },
    {
      "cell_type": "code",
      "metadata": {
        "colab": {
          "base_uri": "https://localhost:8080/"
        },
        "id": "MeT36SPpbERN",
        "outputId": "d7482202-a3c1-446f-c2ba-4e303fb70529"
      },
      "source": [
        "xq.shape"
      ],
      "execution_count": 7,
      "outputs": [
        {
          "output_type": "execute_result",
          "data": {
            "text/plain": [
              "(1, 128)"
            ]
          },
          "metadata": {},
          "execution_count": 7
        }
      ]
    },
    {
      "cell_type": "code",
      "metadata": {
        "colab": {
          "base_uri": "https://localhost:8080/"
        },
        "id": "kJQDxMZ2bF0m",
        "outputId": "8c51f771-7689-4186-959a-18e8ccc60d0b"
      },
      "source": [
        "wb.shape"
      ],
      "execution_count": 8,
      "outputs": [
        {
          "output_type": "execute_result",
          "data": {
            "text/plain": [
              "(1000000, 128)"
            ]
          },
          "metadata": {},
          "execution_count": 8
        }
      ]
    },
    {
      "cell_type": "code",
      "metadata": {
        "id": "uuBQzCFybH97"
      },
      "source": [
        "# 1M samples\n",
        "xb = read_fvecs('/content/sift/sift_base.fvecs')\n",
        "# queries\n",
        "xq = read_fvecs('/content/sift/sift_base.fvecs')[0].reshape(1, -1)\n",
        "xq_full = read_fvecs('/content/sift/sift_query.fvecs')"
      ],
      "execution_count": 9,
      "outputs": []
    },
    {
      "cell_type": "code",
      "metadata": {
        "colab": {
          "base_uri": "https://localhost:8080/"
        },
        "id": "o-mNrUN1bJwR",
        "outputId": "7e7c0fb7-0dc7-45d5-a953-a9544967e26d"
      },
      "source": [
        "!pip install faiss"
      ],
      "execution_count": 10,
      "outputs": [
        {
          "output_type": "stream",
          "name": "stdout",
          "text": [
            "Collecting faiss\n",
            "  Downloading faiss-1.5.3-cp37-cp37m-manylinux1_x86_64.whl (4.7 MB)\n",
            "\u001b[K     |████████████████████████████████| 4.7 MB 7.2 MB/s \n",
            "\u001b[?25hRequirement already satisfied: numpy in /usr/local/lib/python3.7/dist-packages (from faiss) (1.19.5)\n",
            "Installing collected packages: faiss\n",
            "Successfully installed faiss-1.5.3\n"
          ]
        }
      ]
    },
    {
      "cell_type": "code",
      "metadata": {
        "colab": {
          "base_uri": "https://localhost:8080/"
        },
        "id": "65APCM2JbLU_",
        "outputId": "07ea4e85-ef80-40af-9b84-8b6a2c48bc24"
      },
      "source": [
        "!sudo apt-get install libopenblas-dev\n",
        "!sudo apt-get install libomp-dev"
      ],
      "execution_count": 11,
      "outputs": [
        {
          "output_type": "stream",
          "name": "stdout",
          "text": [
            "Reading package lists... Done\n",
            "Building dependency tree       \n",
            "Reading state information... Done\n",
            "libopenblas-dev is already the newest version (0.2.20+ds-4).\n",
            "0 upgraded, 0 newly installed, 0 to remove and 37 not upgraded.\n",
            "Reading package lists... Done\n",
            "Building dependency tree       \n",
            "Reading state information... Done\n",
            "The following additional packages will be installed:\n",
            "  libomp5\n",
            "Suggested packages:\n",
            "  libomp-doc\n",
            "The following NEW packages will be installed:\n",
            "  libomp-dev libomp5\n",
            "0 upgraded, 2 newly installed, 0 to remove and 37 not upgraded.\n",
            "Need to get 239 kB of archives.\n",
            "After this operation, 804 kB of additional disk space will be used.\n",
            "Get:1 http://archive.ubuntu.com/ubuntu bionic/universe amd64 libomp5 amd64 5.0.1-1 [234 kB]\n",
            "Get:2 http://archive.ubuntu.com/ubuntu bionic/universe amd64 libomp-dev amd64 5.0.1-1 [5,088 B]\n",
            "Fetched 239 kB in 1s (228 kB/s)\n",
            "debconf: unable to initialize frontend: Dialog\n",
            "debconf: (No usable dialog-like program is installed, so the dialog based frontend cannot be used. at /usr/share/perl5/Debconf/FrontEnd/Dialog.pm line 76, <> line 2.)\n",
            "debconf: falling back to frontend: Readline\n",
            "debconf: unable to initialize frontend: Readline\n",
            "debconf: (This frontend requires a controlling tty.)\n",
            "debconf: falling back to frontend: Teletype\n",
            "dpkg-preconfigure: unable to re-open stdin: \n",
            "Selecting previously unselected package libomp5:amd64.\n",
            "(Reading database ... 155222 files and directories currently installed.)\n",
            "Preparing to unpack .../libomp5_5.0.1-1_amd64.deb ...\n",
            "Unpacking libomp5:amd64 (5.0.1-1) ...\n",
            "Selecting previously unselected package libomp-dev.\n",
            "Preparing to unpack .../libomp-dev_5.0.1-1_amd64.deb ...\n",
            "Unpacking libomp-dev (5.0.1-1) ...\n",
            "Setting up libomp5:amd64 (5.0.1-1) ...\n",
            "Setting up libomp-dev (5.0.1-1) ...\n",
            "Processing triggers for libc-bin (2.27-3ubuntu1.3) ...\n",
            "/sbin/ldconfig.real: /usr/local/lib/python3.7/dist-packages/ideep4py/lib/libmkldnn.so.0 is not a symbolic link\n",
            "\n"
          ]
        }
      ]
    },
    {
      "cell_type": "code",
      "metadata": {
        "id": "xx5G3ymrbNeD"
      },
      "source": [
        "import faiss"
      ],
      "execution_count": 12,
      "outputs": []
    },
    {
      "cell_type": "code",
      "metadata": {
        "colab": {
          "base_uri": "https://localhost:8080/"
        },
        "id": "jRGm0ixmbPWx",
        "outputId": "2e4733a9-f0d1-4283-b700-1b229ea9ecd7"
      },
      "source": [
        "# setup our HNSW parameters\n",
        "d = 128  # vector size\n",
        "M = 32\n",
        "efSearch = 32  # number of entry points (neighbors) we use on each layer\n",
        "efConstruction = 32  # number of entry points used on each layer\n",
        "                     # during construction\n",
        "\n",
        "index = faiss.IndexHNSWFlat(d, M)\n",
        "print(index.hnsw)"
      ],
      "execution_count": 13,
      "outputs": [
        {
          "output_type": "stream",
          "name": "stdout",
          "text": [
            "<faiss.swigfaiss.HNSW; proxy of <Swig Object of type 'faiss::HNSW *' at 0x7fc124b0cf00> >\n"
          ]
        }
      ]
    },
    {
      "cell_type": "code",
      "metadata": {
        "colab": {
          "base_uri": "https://localhost:8080/"
        },
        "id": "A83Z_RT3bRLT",
        "outputId": "1d35cecf-9e01-4ed3-8150-efe2e0cfce62"
      },
      "source": [
        "# the HNSW index starts with no levels\n",
        "index.hnsw.max_level"
      ],
      "execution_count": 14,
      "outputs": [
        {
          "output_type": "execute_result",
          "data": {
            "text/plain": [
              "-1"
            ]
          },
          "metadata": {},
          "execution_count": 14
        }
      ]
    },
    {
      "cell_type": "code",
      "metadata": {
        "colab": {
          "base_uri": "https://localhost:8080/"
        },
        "id": "7qB6-zmQbS3Q",
        "outputId": "d5c8b0e7-b955-4683-b8a2-8383b3e867ba"
      },
      "source": [
        "# and levels (or layers) are empty too\n",
        "levels = faiss.vector_to_array(index.hnsw.levels)\n",
        "np.bincount(levels)"
      ],
      "execution_count": 15,
      "outputs": [
        {
          "output_type": "execute_result",
          "data": {
            "text/plain": [
              "array([], dtype=int64)"
            ]
          },
          "metadata": {},
          "execution_count": 15
        }
      ]
    },
    {
      "cell_type": "markdown",
      "metadata": {
        "id": "ci3iEpY1bVnq"
      },
      "source": [
        "**We can set the efConstruction and efSearch parameters, only efConstruction must be set before building the index. efSearch only affects search time behavior.**"
      ]
    },
    {
      "cell_type": "code",
      "metadata": {
        "id": "ZmOJbeAfbZyR"
      },
      "source": [
        "index.hnsw.efConstruction = efConstruction\n",
        "index.hnsw.efSearch = efSearch"
      ],
      "execution_count": 16,
      "outputs": []
    },
    {
      "cell_type": "code",
      "metadata": {
        "id": "C6kaAvLAbbsD"
      },
      "source": [
        "index.add(xb)"
      ],
      "execution_count": null,
      "outputs": []
    },
    {
      "cell_type": "code",
      "metadata": {
        "colab": {
          "base_uri": "https://localhost:8080/"
        },
        "id": "2JKO2cJEbeVJ",
        "outputId": "4f509a00-0ddb-4106-9714-981bea4bfbd6"
      },
      "source": [
        "# after adding our data we will find that the level\n",
        "# has been set automatically\n",
        "index.hnsw.max_level"
      ],
      "execution_count": 17,
      "outputs": [
        {
          "output_type": "execute_result",
          "data": {
            "text/plain": [
              "-1"
            ]
          },
          "metadata": {},
          "execution_count": 17
        }
      ]
    },
    {
      "cell_type": "code",
      "metadata": {
        "colab": {
          "base_uri": "https://localhost:8080/"
        },
        "id": "PnoZgJ8jbgGa",
        "outputId": "a1a10257-ce71-4b7c-948e-1f6ae76f68ad"
      },
      "source": [
        "# and levels (or layers) are now populated\n",
        "levels = faiss.vector_to_array(index.hnsw.levels)\n",
        "np.bincount(levels)"
      ],
      "execution_count": 18,
      "outputs": [
        {
          "output_type": "execute_result",
          "data": {
            "text/plain": [
              "array([], dtype=int64)"
            ]
          },
          "metadata": {},
          "execution_count": 18
        }
      ]
    },
    {
      "cell_type": "code",
      "metadata": {
        "colab": {
          "base_uri": "https://localhost:8080/"
        },
        "id": "5MYgW3HCbiL4",
        "outputId": "4e9b8664-3b52-4657-9f5a-cb010651f922"
      },
      "source": [
        "index.hnsw.entry_point\n"
      ],
      "execution_count": 19,
      "outputs": [
        {
          "output_type": "execute_result",
          "data": {
            "text/plain": [
              "-1"
            ]
          },
          "metadata": {},
          "execution_count": 19
        }
      ]
    },
    {
      "cell_type": "markdown",
      "metadata": {
        "id": "qxK4-Jp8budh"
      },
      "source": [
        "**The HNSW::set_default_probas function (from HNSW.cpp)calculates the number of neighbors (in total) a vertex will have across the calculated number of layers. We find that Faiss' implementation does not use M_max or M_max0 directly, but instead uses M to set these values. M_max is set to M, and M_max is set to 2*M**"
      ]
    },
    {
      "cell_type": "code",
      "metadata": {
        "id": "TGKXeip0bmcy"
      },
      "source": [
        "def set_default_probas(M: int, m_L: float):\n",
        "    nn = 0  # set nearest neighbors count = 0\n",
        "    cum_nneighbor_per_level = []\n",
        "    level = 0  # we start at level 0\n",
        "    assign_probas = []\n",
        "    while True:\n",
        "        # calculate probability for current level\n",
        "        proba = np.exp(-level / m_L) * (1 - np.exp(-1 / m_L))\n",
        "        # once we reach low prob threshold, we've created enough levels\n",
        "        if proba < 1e-9: break\n",
        "        assign_probas.append(proba)\n",
        "        # neighbors is == M on every level except level 0 where == M*2\n",
        "        nn += M*2 if level == 0 else M\n",
        "        cum_nneighbor_per_level.append(nn)\n",
        "        level += 1\n",
        "    return assign_probas, cum_nneighbor_per_level"
      ],
      "execution_count": 20,
      "outputs": []
    },
    {
      "cell_type": "code",
      "metadata": {
        "colab": {
          "base_uri": "https://localhost:8080/"
        },
        "id": "DYxAJDBmboZM",
        "outputId": "fd80d97d-5633-4326-bbcd-beeb44e68f6e"
      },
      "source": [
        "assign_probas, cum_nneighbor_per_level = set_default_probas(\n",
        "    32, 1/np.log(32)\n",
        ")\n",
        "assign_probas, cum_nneighbor_per_level"
      ],
      "execution_count": 21,
      "outputs": [
        {
          "output_type": "execute_result",
          "data": {
            "text/plain": [
              "([0.96875,\n",
              "  0.030273437499999986,\n",
              "  0.0009460449218749991,\n",
              "  2.956390380859371e-05,\n",
              "  9.23871994018553e-07,\n",
              "  2.887099981307982e-08],\n",
              " [64, 96, 128, 160, 192, 224])"
            ]
          },
          "metadata": {},
          "execution_count": 21
        }
      ]
    }
  ]
}